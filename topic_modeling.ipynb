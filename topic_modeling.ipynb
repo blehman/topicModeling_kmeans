{
 "cells": [
  {
   "cell_type": "code",
   "execution_count": 2,
   "metadata": {
    "collapsed": false
   },
   "outputs": [
    {
     "name": "stderr",
     "output_type": "stream",
     "text": [
      "/Users/blehman/anaconda/lib/python2.7/site-packages/rpy2/robjects/robject.py:5: UserWarning: Loading required package: stats\n",
      "\n",
      "  rpy2.rinterface.initr()\n",
      "/Users/blehman/anaconda/lib/python2.7/site-packages/rpy2/robjects/robject.py:5: UserWarning: Loading required package: DBI\n",
      "\n",
      "  rpy2.rinterface.initr()\n",
      "/Users/blehman/anaconda/lib/python2.7/site-packages/rpy2/robjects/robject.py:5: UserWarning: Loading required package: rJava\n",
      "\n",
      "  rpy2.rinterface.initr()\n",
      "/Users/blehman/anaconda/lib/python2.7/site-packages/rpy2/robjects/robject.py:5: UserWarning: Error in .jcall(drv@jdrv, \"Ljava/sql/Connection;\", \"connect\", as.character(url)[1],  : \n",
      "  java.sql.SQLException: [Vertica][VJDBC](100176) Failed to connect to host localhost on port 5434. Reason: Connection refused\n",
      "\n",
      "  rpy2.rinterface.initr()\n"
     ]
    }
   ],
   "source": [
    "import json\n",
    "import itertools\n",
    "import pickle\n",
    "import hickle \n",
    "import gzip\n",
    "import operator\n",
    "import os\n",
    "import sys\n",
    "from time import time\n",
    "import pprint as pp\n",
    "import collections\n",
    "import ConfigParser\n",
    "\n",
    "import numpy as np\n",
    "import pandas as pd\n",
    "\n",
    "import twitter\n",
    "\n",
    "from sklearn.pipeline import make_pipeline\n",
    "from sklearn.preprocessing import Normalizer\n",
    "from sklearn.feature_extraction.text import TfidfVectorizer\n",
    "from sklearn.feature_extraction.text import CountVectorizer\n",
    "from sklearn.decomposition import TruncatedSVD\n",
    "from sklearn.cross_validation import train_test_split\n",
    "from sklearn.cluster import KMeans, MiniBatchKMeans\n",
    "from sklearn.externals import joblib\n",
    "\n",
    "\n",
    "# bokeh\n",
    "import bokeh.plotting as bkplt\n",
    "\n",
    "\n",
    "# import requirments \n",
    "from IPython.display import Image\n",
    "from IPython.display import display\n",
    "import matplotlib.pyplot as plt\n",
    "import json\n",
    "import rpy2\n",
    "%load_ext rpy2.ipython\n",
    "%R require(\"ggplot2\")\n",
    "% matplotlib inline\n",
    "from ggplot import *\n",
    "randn = np.random.randn"
   ]
  },
  {
   "cell_type": "markdown",
   "metadata": {},
   "source": [
    "### Data\n",
    "Let's grab some json records from Twitter's public api. \n",
    "\n",
    "We'll use python-twitter. \n",
    "<pre>\n",
    "$ pip install python-twitter\n",
    "$ pydoc twitter.Api\n",
    "</pre>\n",
    "\n",
    "Build an app [https://apps.twitter.com/](https://apps.twitter.com/).  \n",
    "\n",
    "Then use the app info in the `config.cfg` file.\n",
    "    "
   ]
  },
  {
   "cell_type": "code",
   "execution_count": 88,
   "metadata": {
    "collapsed": false
   },
   "outputs": [
    {
     "name": "stdout",
     "output_type": "stream",
     "text": [
      "BrianLehman\n"
     ]
    }
   ],
   "source": [
    "# read the config file.\n",
    "config = ConfigParser.RawConfigParser()\n",
    "config.read('myconfig.cfg')\n",
    "\n",
    "# provided w/ Twitter app. See https://apps.twitter.com/\n",
    "token = config.get('oauth','token')\n",
    "token_secret = config.get('oauth','token_secret')\n",
    "con_key = config.get('oauth','con_key')\n",
    "con_secret_key = config.get('oauth','con_secret_key')\n",
    "\n",
    "# setup \n",
    "api = twitter.Api(\n",
    "    consumer_key=con_key\n",
    "    , consumer_secret=con_secret_key\n",
    "    , access_token_key = token\n",
    "    , access_token_secret = token_secret)\n",
    "\n",
    "# test creds\n",
    "print \"@{}\".format(api.VerifyCredentials().GetScreenName())\n",
    "\n"
   ]
  },
  {
   "cell_type": "code",
   "execution_count": 167,
   "metadata": {
    "collapsed": false
   },
   "outputs": [],
   "source": [
    "results = api.GetSearch(term = 'golden retriever', count = 100, include_entities=True)                \n",
    "counter = 1\n",
    "total_tweets = 5000\n",
    "tweets = []\n",
    "while counter <= total_tweets:\n",
    "    if counter == 1:\n",
    "        new_results = api.GetSearch(term = 'golden retriever'\n",
    "                                    , count = 100\n",
    "                                    , max_id = results[-1].GetId()\n",
    "                                    , include_entities=True)\n",
    "    else:\n",
    "        new_results = api.GetSearch(term = 'golden retriever'\n",
    "                                    , count = 100\n",
    "                                    , max_id = new_results[-1].GetId()\n",
    "                                    , include_entities=True)\n",
    "    counter += len(new_results)\n",
    "    tweets.extend(new_results)\n",
    "#for i,item in enumerate(tweets):\n",
    "#    print i,' ',item.GetText()\n"
   ]
  },
  {
   "cell_type": "code",
   "execution_count": 132,
   "metadata": {
    "collapsed": false
   },
   "outputs": [
    {
     "name": "stdout",
     "output_type": "stream",
     "text": [
      "5081\n"
     ]
    }
   ],
   "source": [
    "tweet_text = [tweet.GetText() for tweet in tweets]\n",
    "print len(tweet_text)\n",
    "pickle.dump(tweet_text,open('./data/tweet_text.pkl','wb'))"
   ]
  },
  {
   "cell_type": "markdown",
   "metadata": {},
   "source": [
    "### Vectorize the Tweets\n",
    "Three steps:  \n",
    "1.  Set up a training and test set.\n",
    "2.  Set up a vecterizer.\n",
    "3.  Vectorize the tweets to build the vocabulary."
   ]
  },
  {
   "cell_type": "code",
   "execution_count": 124,
   "metadata": {
    "collapsed": true
   },
   "outputs": [],
   "source": [
    "# Set up a training and test set.\n",
    "\n",
    "def create_index(total_tweets):\n",
    "        \"\"\"\n",
    "        Builds an index for the training and test set.\n",
    "        The sets serve as a list of row numbers to extract from the dataset. \n",
    "        \"\"\"\n",
    "        # based on the total tweet count, create an array of all line numbers \n",
    "        line_index = np.array(range(0,total_tweets))\n",
    "        # split the array into training and test sets of index values\n",
    "        trainIndex,testIndex = train_test_split(line_index,train_size=0.70, random_state=42)\n",
    "        # save test & traning index values\n",
    "        #np.save(\"training_index\",trainIndex)\n",
    "        #np.save(\"testing_index\",testIndex)\n",
    "        return trainIndex,testIndex\n",
    "\n",
    "trainIndex,testIndex = create_index(len(tweet_text))"
   ]
  },
  {
   "cell_type": "code",
   "execution_count": 174,
   "metadata": {
    "collapsed": false
   },
   "outputs": [],
   "source": [
    "# Set up a vecterizer.\n",
    "# see http://scikit-learn.org/stable/modules/generated/sklearn.feature_extraction.text.TfidfVectorizer.html\n",
    "\n",
    "def vectorize_1():\n",
    "    vectorizer = TfidfVectorizer(#min_df=20\n",
    "                                 stop_words='english'\n",
    "                                 , use_idf=True # enable inverse-document-frequency reweighting\n",
    "                                 , ngram_range=(1,2) # given our vocab, not really necessary\n",
    "                                 , binary = True # presence of word instead of frequency\n",
    "                                 #, vocabulary = vocab\n",
    "                                ) \n",
    "    #X = vectorizer.fit_transform(tweet_list)\n",
    "    return vectorizer\n",
    "\n",
    "def vectorize_2(vocab):\n",
    "    vectorizer = CountVectorizer(stop_words='english'\n",
    "                                 , ngram_range=(1,2) # given our vocab, not really necessary\n",
    "                                 , binary = True # presence of word instead of frequency\n",
    "                                 , vocabulary = set(vocab)\n",
    "                                ) \n",
    "    #X = vectorizer.fit_transform(tweet_list)\n",
    "    return vectorizer\n"
   ]
  },
  {
   "cell_type": "code",
   "execution_count": 140,
   "metadata": {
    "collapsed": false
   },
   "outputs": [
    {
     "data": {
      "text/plain": [
       "(3556, 10363)"
      ]
     },
     "execution_count": 140,
     "metadata": {},
     "output_type": "execute_result"
    }
   ],
   "source": [
    "# Vectorize the tweets to build the vocabulary.\n",
    "vectorizer = vectorize_1()\n",
    "X = vectorizer.fit_transform([tweet_text[i] for i in trainIndex])\n",
    "X.get_shape()\n"
   ]
  },
  {
   "cell_type": "markdown",
   "metadata": {},
   "source": [
    "Progress: \n",
    "* Total tweets: 3,556. \n",
    "\n",
    "* Total tokens: 10,363. \n",
    "\n",
    "### Row Reduction\n",
    "\n",
    "To choose the appropriate number of svd components, we need to explore the amount of variance explained with each component. We'll reduce the number of components to 600. This number provides about 90% of the explained variance.  "
   ]
  },
  {
   "cell_type": "code",
   "execution_count": 142,
   "metadata": {
    "collapsed": true
   },
   "outputs": [],
   "source": [
    "#explained_variances = np.var(X_svd, axis=0) / np.var(X_train, axis=0).sum()\n",
    "\n",
    "### \n",
    "### This can take 10-15 mins\n",
    "###\n",
    "def create_svd_doc_term_matrix(X_train, num_eigen_vectors=100):\n",
    "    \"\"\"\n",
    "    Create the array with truncated svd.\n",
    "    \"\"\"\n",
    "    svd = TruncatedSVD(n_components = num_eigen_vectors)\n",
    "    pipeline = make_pipeline(svd, Normalizer(copy=False))\n",
    "    return pipeline.fit_transform(X_train), svd"
   ]
  },
  {
   "cell_type": "code",
   "execution_count": 145,
   "metadata": {
    "collapsed": false
   },
   "outputs": [
    {
     "data": {
      "text/html": [
       "<div>\n",
       "<table border=\"1\" class=\"dataframe\">\n",
       "  <thead>\n",
       "    <tr style=\"text-align: right;\">\n",
       "      <th></th>\n",
       "      <th>components</th>\n",
       "      <th>explained_var</th>\n",
       "    </tr>\n",
       "  </thead>\n",
       "  <tbody>\n",
       "    <tr>\n",
       "      <th>0</th>\n",
       "      <td>100</td>\n",
       "      <td>0.695745</td>\n",
       "    </tr>\n",
       "    <tr>\n",
       "      <th>1</th>\n",
       "      <td>150</td>\n",
       "      <td>0.733779</td>\n",
       "    </tr>\n",
       "    <tr>\n",
       "      <th>2</th>\n",
       "      <td>200</td>\n",
       "      <td>0.761773</td>\n",
       "    </tr>\n",
       "    <tr>\n",
       "      <th>3</th>\n",
       "      <td>250</td>\n",
       "      <td>0.784823</td>\n",
       "    </tr>\n",
       "    <tr>\n",
       "      <th>4</th>\n",
       "      <td>300</td>\n",
       "      <td>0.803765</td>\n",
       "    </tr>\n",
       "    <tr>\n",
       "      <th>5</th>\n",
       "      <td>350</td>\n",
       "      <td>0.820644</td>\n",
       "    </tr>\n",
       "    <tr>\n",
       "      <th>6</th>\n",
       "      <td>400</td>\n",
       "      <td>0.836368</td>\n",
       "    </tr>\n",
       "    <tr>\n",
       "      <th>7</th>\n",
       "      <td>450</td>\n",
       "      <td>0.851305</td>\n",
       "    </tr>\n",
       "    <tr>\n",
       "      <th>8</th>\n",
       "      <td>500</td>\n",
       "      <td>0.865963</td>\n",
       "    </tr>\n",
       "    <tr>\n",
       "      <th>9</th>\n",
       "      <td>550</td>\n",
       "      <td>0.880081</td>\n",
       "    </tr>\n",
       "    <tr>\n",
       "      <th>10</th>\n",
       "      <td>600</td>\n",
       "      <td>0.893685</td>\n",
       "    </tr>\n",
       "    <tr>\n",
       "      <th>11</th>\n",
       "      <td>650</td>\n",
       "      <td>0.906726</td>\n",
       "    </tr>\n",
       "    <tr>\n",
       "      <th>12</th>\n",
       "      <td>700</td>\n",
       "      <td>0.918916</td>\n",
       "    </tr>\n",
       "    <tr>\n",
       "      <th>13</th>\n",
       "      <td>750</td>\n",
       "      <td>0.930914</td>\n",
       "    </tr>\n",
       "  </tbody>\n",
       "</table>\n",
       "</div>"
      ],
      "text/plain": [
       "    components  explained_var\n",
       "0          100       0.695745\n",
       "1          150       0.733779\n",
       "2          200       0.761773\n",
       "3          250       0.784823\n",
       "4          300       0.803765\n",
       "5          350       0.820644\n",
       "6          400       0.836368\n",
       "7          450       0.851305\n",
       "8          500       0.865963\n",
       "9          550       0.880081\n",
       "10         600       0.893685\n",
       "11         650       0.906726\n",
       "12         700       0.918916\n",
       "13         750       0.930914"
      ]
     },
     "metadata": {},
     "output_type": "display_data"
    },
    {
     "data": {
      "text/plain": [
       "<matplotlib.axes._subplots.AxesSubplot at 0x1229a9090>"
      ]
     },
     "metadata": {},
     "output_type": "display_data"
    },
    {
     "data": {
      "image/png": "[encoded data removed]",
      "text/plain": [
       "<matplotlib.figure.Figure at 0x12b7bfb90>"
      ]
     },
     "metadata": {},
     "output_type": "display_data"
    }
   ],
   "source": [
    "explained_variance_list = []\n",
    "svd_component_range = range(100,751,50)\n",
    "for i in svd_component_range:\n",
    "    # find explained variance in manual reduction method\n",
    "    X_svd, svd = create_svd_doc_term_matrix(X,i)\n",
    "    explained_variance_list.append(svd.explained_variance_ratio_.sum())\n",
    "\n",
    "expVar = pd.DataFrame({'explained_var':explained_variance_list\n",
    "                   , 'components':svd_component_range})\n",
    "display(expVar)\n",
    "#%Rpush  expVar\n",
    "display(expVar.plot(x='components',y='explained_var'))\n"
   ]
  },
  {
   "cell_type": "markdown",
   "metadata": {},
   "source": [
    "Progress:\n",
    "* Total tweets: 3,556. \n",
    "\n",
    "* Total <s>tokens</s> components: <s>10,363</s> 600.   \n",
    "\n",
    "### Create Cluster Centroids\n",
    "We'll now apply kmeans to find the centroids that will be used to predict a cluster for each tweet."
   ]
  },
  {
   "cell_type": "code",
   "execution_count": 146,
   "metadata": {
    "collapsed": true
   },
   "outputs": [],
   "source": [
    "def build_clusters(X_svd, k=5):\n",
    "    \"\"\"\n",
    "    Use kmeans to find centroids.\n",
    "    \"\"\"\n",
    "    km = KMeans(n_clusters=k\n",
    "                , init='k-means++'\n",
    "                , max_iter=100\n",
    "                #, n_init=10\n",
    "                , verbose=False)\n",
    "    km.fit(X_svd)\n",
    "    pred=km.predict(X_svd)\n",
    "    pred_df=pd.DataFrame(pred)\n",
    "    pred_df.columns=['pred_cluster']\n",
    "    return km.cluster_centers_ , pred_df, k\n"
   ]
  },
  {
   "cell_type": "code",
   "execution_count": 169,
   "metadata": {
    "collapsed": true
   },
   "outputs": [],
   "source": [
    "# Choose number of clusters\n",
    "my_k = 50"
   ]
  },
  {
   "cell_type": "code",
   "execution_count": 170,
   "metadata": {
    "collapsed": false
   },
   "outputs": [],
   "source": [
    "# Build centroids\n",
    "centroids, predictions, n_clusters = build_clusters(X_svd, my_k)\n",
    "pickle.dump(centroids, open('./data/centroids.pkl','wb'))\n",
    "pickle.dump(predictions, open('./data/predictions.pkl','wb')) "
   ]
  },
  {
   "cell_type": "markdown",
   "metadata": {},
   "source": [
    "### Explore Word Loadings\n",
    "Those tweets nearest the cluster centers are used as an approximation for their meanings."
   ]
  },
  {
   "cell_type": "code",
   "execution_count": 172,
   "metadata": {
    "collapsed": false
   },
   "outputs": [
    {
     "name": "stdout",
     "output_type": "stream",
     "text": [
      "Top words for cluster 0:\n",
      "[u'retriever', u'golden retriever', u'golden', u'https', u'dog', u'retriever https', u'rt', u'just', u'like', u'want golden', u'dog golden', u'love', u'lab', u'old', u'happy', u'cute', u'family', u'dogs', u'want', u'rescue', u'paintedbycarol', u'rt paintedbycarol', u'um', u'mix https', u'lab golden', u'pottiteam', u'baby golden', u'baby', u'http', u'saw', u'etsyjewelry', u'etsyjewelry https', u'itsbabyanimais husky', u'rt itsbabyanimais', u'https cx7hmzewwd', u'cx7hmzewwd', u'itsbabyanimais', u'retriever rescue', u'right', u'goldenretriever', u'got', u'amp', u'la', u'day', u'like golden', u'cat', u'husky', u'mix', u'dogs dog', u'german']\n",
      "\n",
      "Top words for cluster 1:\n",
      "[u'rtbbxvkxzb', u'http rtbbxvkxzb', u'rt extrasexual', u'extrasexual husky', u'extrasexual', u'want http', u'http', u'mix want', u'retriever mix', u'husky golden', u'mix', u'husky', u'want', u'rt', u'golden retriever', u'retriever', u'golden', u'u2ijd0d4f4 omg', u'u2ijd0d4f4', u'https u2ijd0d4f4', u'zuyw3br3qa', u'http zuyw3br3qa', u'animaiposts husky', u'04 15', u'http cpzt4pfnot', u'cpzt4pfnot', u'05543473431', u'waaahhhhh extrasexual', u'waaahhhhh', u'https pymobo44jm', u'pymobo44jm', u'08 2007', u'05316160794', u'l6itcspj2e', u'https l6itcspj2e', u'rid dog', u'kind want', u'want rid', u'rid', u'qycf8ggcwz', u'https qycf8ggcwz', u'kind', u'05333138352', u'bucket list', u'bucket', u'rt meetanimals', u'want life', u'cancer', u'married golden', u'married']\n",
      "\n",
      "Top words for cluster 2:\n",
      "[u'ya\\u015f\\u0131nda', u'ya\\u015f\\u0131nda erkek', u'ileti\\u015fim', u'erkek golden', u'erkek', u'bulundu ileti\\u015fim', u'sahipsiz ya\\u015f\\u0131nda', u'kapakl\\u0131', u'ileti\\u015fim 05417187435', u'gd9bzg49yy', u'tekirda\\u011f', u'https gd9bzg49yy', u'gd9bzg49yy https', u'kapakl\\u0131 sahipsiz', u'tekirda\\u011f kapakl\\u0131', u'05417187435 https', u'05417187435', u'rt kayipkopek', u'kayipkopek', u'kayipkopek tekirda\\u011f', u'bulundu', u'sahipsiz', u'golden bulundu', u'beyo\\u011flu', u'istanbul beyo\\u011flu', u'beyo\\u011flu ya\\u015f\\u0131nda', u'bymerih', u'lucca', u'golden lucca', u'bymerih https', u'ileti\\u015fim 05543473431', u'https 4ek3sddmkc', u'lucca kay\\u0131p', u'4ek3sddmkc', u'4ek3sddmkc https', u'05543473431 bymerih', u'05543473431', u'https', u'istanbul', u'kayipkopek istanbul', u'kay\\u0131p', u'kay\\u0131p ileti\\u015fim', u'rt', u'golden', u'05353345096', u'05353345096 https', u'i5a2q1ljkv', u'https i5a2q1ljkv', u'beyo\\u011flu sahipsiz', u'z0b8i2v9uz']\n",
      "\n",
      "Top words for cluster 3:\n",
      "[u'0qq23vl20z https', u'https 0qq23vl20z', u'0qq23vl20z', u'https sfka', u'sfka', u'retriever diagnosed', u'couple', u'couple makes', u'list golden', u'makes bucket', u'diagnosed', u'diagnosed cancer', u'makes', u'cancer https', u'cancer', u'bucket', u'bucket list', u'abc couple', u'abc', u'list', u'rt abc', u'https', u'rt', u'golden retriever', u'retriever', u'golden', u'sfka0ultte', u'https sfka0ultte', u'n4otkxzzwa', u'https n4otkxzzwa', u'news couple', u'uxl3i7zzwd https', u'https uxl3i7zzwd', u'https ypevgw1xn6', u'uxl3i7zzwd', u'ypevgw1xn6', u'72eqyplwp5', u'8ybmj0c4e3', u'https 72eqyplwp5', u'https 8ybmj0c4e3', u'72eqyplwp5 https', u'news', u'gpistyy8fn', u'https gpistyy8fn', u'tc3mwxqoin', u'https tc3mwxqoin', u'bn9awfemre', u'https bn9awfemre', u'nlqcjm2tks', u'https nlqcjm2tks']\n",
      "\n",
      "Top words for cluster 4:\n",
      "[u'f0g8ivkzqn', u'speakcomedy husky', u'rt speakcomedy', u'speakcomedy', u'https f0g8ivkzqn', u'want https', u'mix want', u'retriever mix', u'husky golden', u'mix', u'husky', u'want', u'https', u'rt', u'golden retriever', u'retriever', u'golden', u'https gq2x4ilubj', u'gq2x4ilubj', u'https lvu9b6desn', u'lvu9b6desn', u'want rid', u'rid dog', u'kind want', u'rid', u'u2ijd0d4f4 omg', u'u2ijd0d4f4', u'https u2ijd0d4f4', u'retriever bad', u'kind', u'today cute', u'cute want', u'park today', u'retriever park', u'window', u'window http', u'http ixek5gb0qj', u'ixek5gb0qj', u'retriever window', u'couple makes', u'retriever diagnosed', u'makes bucket', u'couple', u'list golden', u'05316160794', u'rt kbhhhh', u'kbhhhh really', u'kbhhhh', u'eiathnjirw', u'https eiathnjirw']\n",
      "\n",
      "Top words for cluster 5:\n",
      "[u'spreads', u'ghost pet', u'appears owner', u'appears', u'owner spreads', u'spreads ashes', u'retriever appears', u'pet golden', u'owner', u'ashes https', u'ashes', u'ghost', u'dailymail', u'dailymail ghost', u'399dnc38ni https', u'399dnc38ni', u'https 399dnc38ni', u'htqjuotfuq', u'https htqjuotfuq', u'pet', u'rt dailymail', u'https', u'rt', u'golden retriever', u'retriever', u'golden', u'3t5str2ppz https', u'https xqnqozvfws', u'xqnqozvfws', u'https 3t5str2ppz', u'3t5str2ppz', u'k5phwkfqpp', u'https wzszqlsjas', u'speechless', u'https k5phwkfqpp', u'wzszqlsjas https', u'wzszqlsjas', u'k5phwkfqpp speechless', u'mailonline', u'https h2r6gfrdco', u'mailonline rt', u'h2r6gfrdco', u'h2r6gfrdco https', u'https zjne3estgl', u'zjne3estgl', u'8iyxtu2cig', u'https 8iyxtu2cig', u'05316160794 tugbasay', u'047pfknybr', u'complete dogs']\n",
      "\n",
      "Top words for cluster 6:\n",
      "[u'lion dogs', u'shave', u'dogs respect', u'rt yahooanswerstxt', u'like lion', u'respect', u'shave golden', u'yahooanswerstxt shave', u'yahooanswerstxt', u'lion', u'retriever like', u'like', u'dogs', u'rt', u'golden retriever', u'retriever', u'golden', u'just smiled', u'got pet', u'bk1cunedyu', u'https bk1cunedyu', u'smiled', u'expensive', u'puppies expensive', u'live countryside', u'countryside', u'puppy live', u'0bzzon0ax1', u'really golden', u'00l2utnmod', u'damn cute', u'puppies cutest', u'omg damn', u'twinkiemanda omg', u'twinkiemanda', u'goal life', u'047pfknybr breitbartnews', u'complete dogs', u'today life', u'life complete', u'damn', u'jealousy', u'jealousy turn', u'barking', u'barking jealousy', u'future massaging', u'like buddy', u'buddy 199', u'dogs barking', u'massaging golden']\n",
      "\n",
      "Top words for cluster 7:\n",
      "[u'istanbul \\u015fi\\u015fli', u'ybsk8y6mb4 https', u'\\u015fi\\u015fli sahipsiz', u'ayl\\u0131k erkek', u'sahipsiz ayl\\u0131k', u'selahattnsahman https', u'selahattnsahman', u'https ybsk8y6mb4', u'\\u015fi\\u015fli', u'ybsk8y6mb4', u'bulundu 05333138352', u'05333138352 selahattnsahman', u'05333138352', u'kayipkopek istanbul', u'istanbul', u'golden bulundu', u'bulundu', u'sahipsiz', u'erkek golden', u'erkek', u'ayl\\u0131k', u'rt kayipkopek', u'kayipkopek', u'https', u'rt', u'golden', u'ileti\\u015fim 05353345096', u'beyo\\u011flu sahipsiz', u'https z0b8i2v9uz', u'retriever bulundu', u'z0b8i2v9uz', u'z0b8i2v9uz https', u'istanbul beyo\\u011flu', u'beyo\\u011flu', u'kayipkopek kocaeli', u'bulundu ileti\\u015fim', u'sahipsiz ya\\u015f\\u0131nda', u'08 08', u'kayipkopek tekirda\\u011f', u'https lvu9b6desn', u'lvu9b6desn', u'afxx2nxjji', u'https afxx2nxjji', u'retriever hmm', u'hmm', u'https bgqdssyek8', u'bgqdssyek8', u'just https', u'05543473431', u'mother https']\n",
      "\n",
      "Top words for cluster 8:\n",
      "[u'lolitadrugs husky', u'exxifa1ewg', u'http exxifa1ewg', u'lolitadrugs', u'rt lolitadrugs', u'want http', u'http', u'mix want', u'retriever mix', u'husky golden', u'mix', u'husky', u'want', u'rt', u'golden retriever', u'retriever', u'golden', u'https gq2x4ilubj', u'gq2x4ilubj', u'animaiposts husky', u'http zuyw3br3qa', u'zuyw3br3qa', u'list', u'https qycf8ggcwz', u'qycf8ggcwz', u'498vuwjeq7', u'babyanimalgifs husky', u'http 498vuwjeq7', u'lhdtm0mq1v', u'http lhdtm0mq1v', u'cpzt4pfnot', u'http cpzt4pfnot', u'want siberian', u'want life', u'pup badly', u'want lab', u'badly', u'opiwm4sups', u'dog half', u'rt thetideaustin', u'http opiwm4sups', u'half wiener', u'thetideaustin', u'thetideaustin half', u'rid dog', u'rid', u'want rid', u'kind want', u'https l6itcspj2e', u'l6itcspj2e']\n",
      "\n",
      "Top words for cluster 9:\n",
      "[u'figure', u'kora', u'watch kora', u'kora golden', u'figure tail', u'tail https', u'puppy figure', u'tail', u'watch', u'retriever puppy', u'puppy', u'want time', u'figure want', u'time boyfriend', u'boyfriend golden', u'boyfriend', u'time', u'alexmiller92', u'alexmiller92 figure', u'rt alexmiller92', u'https', u'golden retriever', u'retriever', u'golden', u'want', u'hi7zcgnkd6', u'hi7zcgnkd6 https', u'ngjzd5q0eo', u'https hi7zcgnkd6', u'https ngjzd5q0eo', u'0qp2wfct4y', u'https y3ssecmzqv', u'y3ssecmzqv', u'y3ssecmzqv https', u'https 0qp2wfct4y', u'https a7ex5gpjuf', u'https 7castccsxl', u'a7ex5gpjuf', u'7castccsxl', u'7castccsxl https', u'https rwyr6a9k0q', u'rwyr6a9k0q', u'https evi7gwcgta', u'evi7gwcgta', u'evi7gwcgta https', u'uuhc4he86m', u'uuhc4he86m https', u'https clgt0uqyj7', u'clgt0uqyj7', u'https uuhc4he86m']\n",
      "\n",
      "Top words for cluster 10:\n",
      "[u'bailey', u'meet bailey', u'bailey golden', u'meet', u'retriever https', u'xo6py8rhbd', u'https xo6py8rhbd', u'rt meetanimals', u'meetanimals', u'meetanimals meet', u'https', u'rt', u'golden retriever', u'retriever', u'golden', u'i4tg5943lf', u'https i4tg5943lf', u'awwcuteness', u'rt awwcuteness', u'awwcuteness meet', u'https rbvu78gq30', u'rbvu78gq30', u'cutemergency', u'cutemergency meet', u'rt cutemergency', u'yho0lmpgnd', u'https yho0lmpgnd', u'05333138352 selahattnsahman', u't8chs6ksol https', u'planet meetanimals', u't8chs6ksol', u'planet', u'https t8chs6ksol', u'retweeted', u'c7kkzefmam', u'retweeted animal', u'animal planet', u'https c7kkzefmam', u'named gisele', u'gisele', u'bucket list', u'https hqmkgxonse', u'hqmkgxonse', u'2ubxdnqmoz', u'https 2ubxdnqmoz', u'bucket', u'really golden', u'retriever think', u'got winked', u'winked golden']\n",
      "\n",
      "Top words for cluster 11:\n",
      "[u'devoto', u'27 36', u'tama\\xf1o', u'peso 27', u'origen', u'rt irazasdeperros', u'inteligente', u'peso', u'uk peso', u'kg tama\\xf1o', u'raza golden', u'inteligente vivaz', u'origen uk', u'car\\xe1cter inteligente', u'tama\\xf1o grande', u'car\\xe1cter', u'grande car\\xe1cter', u'vivaz \\xe1gil', u'\\xe1gil devoto', u'devoto compa\\xf1ero', u'\\xe1gil', u'retriever origen', u'irazasdeperros raza', u'irazasdeperros', u'vivaz', u'36 kg', u'36', u'compa\\xf1ero', u'27', u'kg', u'raza', u'grande', u'uk', u'rt', u'golden retriever', u'retriever', u'golden', u'https ufpyoy0zeo', u'https 2qajcvhv6a', u'raza perro', u'ufpyoy0zeo', u'2qajcvhv6a https', u'2qajcvhv6a', u'likes tasty', u'tpip94vj8m', u'grande brokenarrow', u'bo https', u'tasty', u'audiobook bo', u'brokenarrow golden']\n",
      "\n",
      "Top words for cluster 12:\n",
      "[u'cream ice', u'buys ice', u'retriever buys', u'truck', u'cream truck', u'buys', u'zack golden', u'zack', u'truck https', u'ice', u'ice cream', u'cream', u'https', u'golden retriever', u'retriever', u'golden', u'barstoolsports', u'https ja5kvyltlk', u'wyunz4kveu', u'https wyunz4kveu', u'ja5kvyltlk', u'ja5kvyltlk https', u'peinqeprbq barstoolsports', u'https peinqeprbq', u'peinqeprbq', u'https leyp9xfsuf', u'https tuuy5b49nj', u'leyp9xfsuf', u'tuuy5b49nj', u'tuuy5b49nj https', u'tf5flobaut', u'https v381ch9nit', u'https tf5flobaut', u'v381ch9nit', u'v381ch9nit https', u'egzrmj3u8n https', u'https ifmkzpdody', u'https egzrmj3u8n', u'egzrmj3u8n', u'ifmkzpdody', u'1t7co0encd', u'1t7co0encd https', u'https kkvhxlzbha', u'kkvhxlzbha', u'https 1t7co0encd', u'gcehwyk7zs https', u'kyzrbfdzlb', u'gcehwyk7zs', u'https kyzrbfdzlb', u'https gcehwyk7zs']\n",
      "\n",
      "Top words for cluster 13:\n",
      "[u'crwixnlate', u'http crwixnlate', u'animaiposts sleepy', u'rt animaiposts', u'animaiposts', u'sleepy', u'sleepy golden', u'retriever http', u'http', u'rt', u'golden retriever', u'retriever', u'golden', u'animaiposts husky', u'http zuyw3br3qa', u'zuyw3br3qa', u'animaiposts baby', u'qvgkdaak3m', u'http qvgkdaak3m', u'cpzt4pfnot', u'http cpzt4pfnot', u'rt babyanlmals', u'p0grhocbmy', u'http p0grhocbmy', u'babyanlmals sleepy', u'babyanlmals', u'xsnsiaaktt', u'babyanimalgifs sleepy', u'http xsnsiaaktt', u'http 00l2utnmod', u'https c39w3pnptn', u'c39w3pnptn', u'goldensmexico life', u'okc1om5tn6', u'http okc1om5tn6', u'babyanimalgifs golden', u'asuzdzlgve', u'http asuzdzlgve', u'bloodhound', u'bloodhound golden', u'husky bloodhound', u'cancer', u'good golden', u'05353345096 https', u'kind want', u'want rid', u'rid', u'rid dog', u'3nd7d99hy5', u'https 3nd7d99hy5']\n",
      "\n",
      "Top words for cluster 14:\n",
      "[u'bomb http', u'bath bomb', u'bomb', u'retriever bath', u'bath', u'zijytqmudw', u'sassyanimalpics golden', u'http zijytqmudw', u'rt sassyanimalpics', u'sassyanimalpics', u'http', u'http asuzdzlgve', u'babyanimalgifs golden', u'asuzdzlgve', u'babyanimalgifs', u'rt babyanimalgifs', u'rt', u'golden retriever', u'retriever', u'golden', u'http 9v3wf1oppa', u'babyanimalgifs baby', u'9v3wf1oppa', u'http 498vuwjeq7', u'babyanimalgifs husky', u'498vuwjeq7', u'05359149703 https', u'lhdtm0mq1v', u'http lhdtm0mq1v', u'rt abc', u'katiethayer_ read', u'rt katiethayer_', u'xfwjltwden', u'bath facebook', u'https xfwjltwden', u'katiethayer_', u'read watch', u'watch golden', u'really golden', u'zvnogtpjl1', u'https zvnogtpjl1', u'05543473431 bymerih', u'05316160794 kay\\u0131p', u'tablondeanuncios atenci\\xf3n', u'salamanca https', u'puppies expensive', u'expensive', u'05333138352 selahattnsahman', u'05417187435', u'don golden']\n",
      "\n",
      "Top words for cluster 15:\n",
      "[u'tba', u'stray hold', u'stray', u'hold tba', u'retriever stray', u'hold', u'rt shelteranimals1', u'shelteranimals1', u'neutered male', u'neutered', u'email adoption', u'email', u'adoption rescue', u'tba email', u'male golden', u'adoption', u'rescue https', u'male', u'rescue', u'https uzdzjbpbn7', u'hank a206120', u'hank', u'tba https', u'uzdzjbpbn7', u'alert hank', u'a206120', u'a206120 neutered', u'senior alert', u'senior', u'unaltered', u'shelteranimals1 a194394', u'a194394', u'a194394 unaltered', u'unaltered female', u'alert', u'shelteranimals1 senior', u'female golden', u'female', u'a194393', u'simba a194393', u'a194393 neutered', u'simba', u'shelteranimals1 simba', u'https', u'rt', u'golden retriever', u'retriever', u'golden', u'hqenqt4nnq', u'https hqenqt4nnq']\n",
      "\n",
      "Top words for cluster 16:\n",
      "[u'scrambling eggs', u'morning walking', u'eggs husbands', u'tshirt', u'fast', u'fast forward', u'husbands tshirt', u'husbands', u'forward', u'forward scrambling', u'eggs', u'tshirt saturday', u'saturday morning', u'plz fast', u'scrambling', u'school plz', u'morning', u'plz', u'saturday', u'walking', u'school', u'rt lmonzz', u'lmonzz school', u'lmonzz', u'walking gold', u'gold', u'rt', u'lalalauren_luv', u'rt lalalauren_luv', u'lalalauren_luv school', u'walking golden', u'golden retriever', u'retriever', u'golden', u'retriever school', u'school happy', u'just saw', u'happy', u'c39w3pnptn', u'https c39w3pnptn', u'sure getting', u'retriever older', u'named gisele', u'gisele', u'05333138352', u'05417187435 https', u'just smiled', u'don knock', u'saturday night', u'till try']\n",
      "\n",
      "Top words for cluster 17:\n",
      "[u'yfawemkdl3', u'yfawemkdl3 https', u'https yfawemkdl3', u'https bn9a', u'bn9a', u'abc couple', u'abc', u'rt abc', u'list golden', u'couple makes', u'makes bucket', u'couple', u'retriever diagnosed', u'diagnosed', u'diagnosed cancer', u'cancer https', u'makes', u'cancer', u'bucket list', u'bucket', u'list', u'https', u'rt', u'golden retriever', u'retriever', u'golden', u'https bn9awfemre', u'bn9awfemre', u'gpistyy8fn', u'https gpistyy8fn', u'tc3mwxqoin', u'https tc3mwxqoin', u'news couple', u'n4otkxzzwa', u'https n4otkxzzwa', u'n3wmih5kfe', u'https n3wmih5kfe', u'0bzzon0ax1', u'nlqcjm2tks', u'https nlqcjm2tks', u'72eqyplwp5 https', u'8ybmj0c4e3', u'https 8ybmj0c4e3', u'https 72eqyplwp5', u'72eqyplwp5', u'news', u'c39w3pnptn', u'https c39w3pnptn', u'ypevgw1xn6', u'uxl3i7zzwd https']\n",
      "\n",
      "Top words for cluster 18:\n",
      "[u'life', u'life golden', u'need golden', u'need', u'retriever life', u'happier life', u'golden retriever', u'retriever teammichael', u'hereisgina', u'michael real', u'teammichael', u'rt hereisgina', u'hereisgina michael', u'teammichael janethevirgin', u'real life', u'janethevirgin', u'retriever', u'happier', u'golden', u'michael', u'real', u'goal life', u'goal', u'edlosereyno happier', u'edlosereyno', u'rt edlosereyno', u'ayekassidi', u'rt ayekassidi', u'ayekassidi need', u'want life', u'rt', u'retriever pup', u'pup', u'retriever puppies', u'puppies', u'pup life', u'named steve', u'steve', u'life good', u'good', u'retriever named', u'named', u'currently', u'currently cuddling', u'cuddling golden', u'cuddling', u'want', u'puppy asap', u'asap', u'oh god']\n",
      "\n",
      "Top words for cluster 19:\n",
      "[u'10 make', u'getting dog', u'best pets', u'dog 10', u'thinking getting', u'make best', u'pets https', u'best', u'make', u'thinking', u'getting', u'10', u'pets', u'dog', u'https', u'fact thinking', u'fact', u'https c7es7zvslp', u'c7es7zvslp', u'rt fact', u'45qeji4c8n', u'https wmpx946aua', u'wmpx946aua', u'https 45qeji4c8n', u'wmpx946aua https', u'r95l60aoxo', u'r95l60aoxo https', u'https r95l60aoxo', u'https 6ay9ctebkc', u'6ay9ctebkc', u'https 99k2trqzqi', u'https vxroqsrm8m', u'vxroqsrm8m', u'vxroqsrm8m https', u'99k2trqzqi', u'https ov10tcwdpm', u'kcytygincn', u'ov10tcwdpm', u'https kcytygincn', u'kcytygincn https', u'https dyqfqrnckf', u'dyqfqrnckf', u'fmxm4vbnwh', u'https fmxm4vbnwh', u'https nhmygfh1yt', u'nhmygfh1yt', u'drozyhbpjz', u'https drozyhbpjz', u'https tzciggh37q', u'tzciggh37q']\n",
      "\n",
      "Top words for cluster 20:\n",
      "[u'maria', u'perdido sin', u'comunicarse', u'comunicarse conmigo', u'conmigo https', u'maria m\\xe9rida', u'sin', u'sin nombre', u'garita altos', u'm\\xe9rida difundir', u'difundir comunicarse', u'santa maria', u'nombre en', u'nombre', u'difundir', u'la garita', u'm\\xe9rida', u'garita', u'en la', u'conmigo', u'retriever perdido', u'altos', u'perdido', u'santa', u'altos santa', u'rt pan_comido', u'pan_comido golden', u'pan_comido', u'en', u'la', u'https', u'rt', u'golden retriever', u'retriever', u'golden', u'https n18uwsb9o2', u'n18uwsb9o2', u'santa mar\\xeda', u'mar\\xeda', u'_asn photo', u'o50dbgosak', u'perdido encontrado', u'o50dbgosak golden', u'en altos', u'https o50dbgosak', u'photo https', u'mar\\xeda difundir', u'encontrado en', u'_asn', u'encontrado']\n",
      "\n",
      "Top words for cluster 21:\n",
      "[u'bit', u'said golden', u'verbsrproudest', u'verbsrproudest casey', u'peyton said', u'peyton', u'lilly', u'sick peyton', u'lilly said', u'wasn school', u'school sick', u'retriever bit', u'rt verbsrproudest', u'casey wasn', u'said lilly', u'jayden said', u'jayden', u'said jayden', u'wasn', u'casey', u'sick', u'said', u'school', u'rt', u'golden retriever', u'retriever', u'golden', u'retriever school', u'school happy', u'just saw', u'oy', u'hotline_bling oy', u'hotline_bling', u'oy wish', u'retriever wasn', u'happy', u'04 15', u'rt princeofsaigon', u'princeofsaigon', u'princeofsaigon want', u'god need', u'oh god', u'makes', u'05353345096 https', u'really golden', u'08 08', u'life good', u'things golden', u'university', u'university like']\n",
      "\n",
      "Top words for cluster 22:\n",
      "[u'print', u'art', u'signed', u'art print', u'painting', u'oscarjetson', u'oscarjetson golden', u'rt oscarjetson', u'poster', u'hand signed', u'hand', u'retriever art', u'watercolor painting', u'watercolor', u'print hand', u'dogpaintings', u'dogpaintings https', u'dogs dogpaintings', u'8x10 signed', u'rjk', u'retriever 8x10', u'painting https', u'signed art', u'8x10', u'print rjk', u'dogs', u'rt psswstyles', u'psswstyles', u'https', u'turquoise', u'rjk watercolor', u'prints', u'paintings', u'paintings prints', u'art golden', u'poster art', u'painting poster', u'dog art', u'kinz hs010', u'kinz', u'ganz webkinz', u'webkinz lil', u'webkinz', u'lil kinz', u'code', u'code https', u'https dxuyug3i84', u'dxuyug3i84', u'new code', u'ganz']\n",
      "\n",
      "Top words for cluster 23:\n",
      "[u'05316160794', u'retriever mia', u'ileti\\u015fim 05316160794', u'mia kay\\u0131p', u'dar\\u0131ca', u'kocaeli', u'kocaeli dar\\u0131ca', u'mia', u'ayl\\u0131k di\\u015fi', u'dar\\u0131ca ayl\\u0131k', u'tugbasay https', u'tugbasay', u'fmty0a3lew', u'fmty0a3lew https', u'https fmty0a3lew', u'05316160794 tugbasay', u'di\\u015fi golden', u'di\\u015fi', u'kay\\u0131p', u'kay\\u0131p ileti\\u015fim', u'kayipkopek kocaeli', u'ileti\\u015fim', u'ayl\\u0131k', u'kayipkopek', u'rt kayipkopek', u'https', u'rt', u'golden retriever', u'retriever', u'golden', u'05316160794 kay\\u0131p', u'jrfesg5pnp', u'https jrfesg5pnp', u'ieccxwrh8w kayipkopek', u'k\\xf6pek t\\xfcrkiye', u't\\xfcrkiye', u't\\xfcrkiye https', u'ieccxwrh8w', u'https ieccxwrh8w', u'kay\\u0131p k\\xf6pek', u'k\\xf6pek', u'05325481401', u'tarkan', u'istanbul esenler', u'ileti\\u015fim 05325481401', u'retriever tarkan', u'tarkan kay\\u0131p', u'geqbprxknf', u'esenler', u'https geqbprxknf']\n",
      "\n",
      "Top words for cluster 24:\n",
      "[u'want', u'golden retriever', u'retriever', u'golden', u'mix want', u'retriever mix', u'husky golden', u'mix', u'husky', u'want golden', u'rt', u'http', u'rt giripossts', u'giripossts', u'giripossts husky', u'xhww33c8pe', u'https xhww33c8pe', u'want http', u'want https', u'rt sassyanimalpics', u'sassyanimalpics', u'https', u'sassyanimalpics husky', u'teenagernotes husky', u'teenagernotes', u'rt teenagernotes', u'vv1km560tx', u'http vv1km560tx', u'sincerelytumblr husky', u'http loa6tdropx', u'loa6tdropx', u'rt sincerelytumblr', u'sincerelytumblr', u'hq7z2d7oju', u'femaiestruggle', u'https hq7z2d7oju', u'rt femaiestruggle', u'femaiestruggle husky', u'buoatxful3', u'gabby_love10', u'gabby_love10 want', u'https buoatxful3', u'rt gabby_love10', u'xcst0amp7j', u'http xcst0amp7j', u'c8ezkikpku', u'rt chanelpuke', u'http c8ezkikpku', u'chanelpuke husky', u'chanelpuke']\n",
      "\n",
      "Top words for cluster 25:\n",
      "[u'look guys', u'brown eyes', u'guys brown', u'cute nose', u'messy', u'messy hair', u'girls look', u'nose paws', u'hair cute', u'eyes', u'eyes messy', u'paws golden', u'paws', u'guys', u'girls', u'nose', u'hair', u'brown', u'look', u'cute', u'goldenretriever girls', u'rt goldenretriever', u'goldenretriever', u'golden retriever', u'retriever', u'golden', u'rt tweet_likeagiri', u'tweet_likeagiri girls', u'tweet_likeagiri', u'mesarcasticnvr', u'rt mesarcasticnvr', u'mesarcasticnvr girls', u'rt', u'af864y8nmw', u'https af864y8nmw', u'basically guys', u've reincarnated', u'basically', u'guys ve', u'retriever dogslife', u'dogslife https', u'dogslife', u'cthorpe27', u'brown husky', u'mix just', u'just brown', u'cthorpe27 thinking', u'https wtaixnvpzu', u'wtaixnvpzu', u'05325481401 https']\n",
      "\n",
      "Top words for cluster 26:\n",
      "[u'farm', u'farm https', u'https r00h0tb5wt', u'r00h0tb5wt', u'puppy farm', u'retriever puppy', u'puppy', u'https', u'golden retriever', u'retriever', u'golden', u'rt livvyy_gadd', u'livvyy_gadd just', u'retriever farm', u'livvyy_gadd', u'really golden', u'puppy asap', u'asap', u'08 08', u'wl094mjx9p', u'https wl094mjx9p', u'rt abc', u'047pfknybr breitbartnews', u'05322446401 https', u'05316160794 kay\\u0131p', u'amp cutest', u'softest amp', u'softest', u'puppies softest', u'rudeness', u'retriever people', u'rudeness today', u'drawing golden', u'people rudeness', u'getting golden', u'chakalitcone', u'normanistinashe best', u'normanistinashe', u'chakalitcone normanistinashe', u'puppies like', u'best got', u'just really', u'rt justin_fisher25', u'justin_fisher25 want', u'justin_fisher25', u'05333138352', u'really', u'retriever lt', u'05353345096 https', u'05417187435']\n",
      "\n",
      "Top words for cluster 27:\n",
      "[u'gq2x4ilubj', u'https gq2x4ilubj', u'tweetllkeagirl', u'tweetllkeagirl husky', u'rt tweetllkeagirl', u'want https', u'mix want', u'retriever mix', u'husky golden', u'mix', u'husky', u'want', u'https', u'rt', u'golden retriever', u'retriever', u'golden', u'lvu9b6desn', u'https lvu9b6desn', u'https u2ijd0d4f4', u'u2ijd0d4f4', u'u2ijd0d4f4 omg', u'https pymobo44jm', u'waaahhhhh', u'pymobo44jm', u'waaahhhhh extrasexual', u'rt uncuffedsociety', u'gyfizrkwwa', u'uncuffedsociety husky', u'uncuffedsociety', u'https gyfizrkwwa', u'list', u'rt abc', u'05333138352', u'puppies expensive', u'expensive', u'makes', u'plan husky', u'zvnogtpjl1', u'https zvnogtpjl1', u'really golden', u'omg', u'currently', u'named gisele', u'gisele', u'retriever subaru', u'congratulations', u'commercial congratulations', u'commercial', u'congratulations want']\n",
      "\n",
      "Top words for cluster 28:\n",
      "[u'named alexander', u'alexander', u'rt christianleave', u'christianleave need', u'christianleave', u'retriever named', u'named', u'need golden', u'need', u'rt', u'golden retriever', u'retriever', u'golden', u'named steve', u'steve', u'05333138352', u'life good', u'currently', u'puppy kisses', u'christianleave ur', u'ur golden', u'aidanjalexander', u'aidanjalexander christianleave', u'rt edlosereyno', u'edlosereyno', u'edlosereyno happier', u'05417187435 https', u'05543473431 bymerih', u'kisses', u'cuddling golden', u'currently cuddling', u'gisele', u'named gisele', u'good', u'cuddling', u'rt princeofsaigon', u'princeofsaigon', u'princeofsaigon want', u'okc1om5tn6', u'http okc1om5tn6', u'goldensmexico life', u'wheel', u'wheel http', u'http yojwstl3di', u'retriever wheel', u'yojwstl3di', u'retriever version', u'religion golden', u'religion', u'version god']\n",
      "\n",
      "Top words for cluster 29:\n",
      "[u'retriever cookie', u'new golden', u'cutter https', u'cookie', u'cutter', u'cookie cutter', u'new', u'https', u'golden retriever', u'retriever', u'golden', u'j7u4c5xzrb https', u'https ma1gakpfdr', u'ma1gakpfdr', u'https j7u4c5xzrb', u'j7u4c5xzrb', u'mvppgresur', u'https nrzcb6t0xf', u'nrzcb6t0xf', u'nrzcb6t0xf https', u'https mvppgresur', u'mpvn3wyaqr https', u'mpvn3wyaqr', u'https mpvn3wyaqr', u'https ydjzgryy6s', u'ydjzgryy6s', u'qttqj27nwc', u'https qttqj27nwc', u'https qxnoezo89i', u'qxnoezo89i', u'qttqj27nwc https', u'ng1e8qtgwk', u'https ng1e8qtgwk', u'https bm6fzvkwgh', u'bm6fzvkwgh', u'bm6fzvkwgh https', u'https cpvqtf7dxo', u'cpvqtf7dxo', u'dvczvdcl7j', u'dvczvdcl7j https', u'https dvczvdcl7j', u'irlpkfltxp', u'https qgo7rghgp3', u'qgo7rghgp3', u'https irlpkfltxp', u'qgo7rghgp3 https', u'wiyepi6cdn', u'wiyepi6cdn https', u'https j9yui74vag', u'https wiyepi6cdn']\n",
      "\n",
      "Top words for cluster 30:\n",
      "[u'husky bloodhound', u'bloodhound golden', u'bloodhound', u'rt cuteanimalsbaby', u'cuteanimalsbaby', u'cuteanimalsbaby husky', u'https qzinmbuzc8', u'qzinmbuzc8', u'retriever https', u'husky', u'https', u'rt', u'golden retriever', u'retriever', u'golden', u'amp mastiff', u'mastiff mixed', u'mixed http', u'retriever amp', u'mixed', u'mastiff', u'498vuwjeq7', u'babyanimalgifs husky', u'http 498vuwjeq7', u'amp', u'babyanimalgifs', u'rt babyanimalgifs', u'http', u'cpzt4pfnot', u'http cpzt4pfnot', u'https qycf8ggcwz', u'qycf8ggcwz', u'mix https', u'00l2utnmod', u'eiathnjirw', u'https eiathnjirw', u'retriever http', u'babyanimalpics', u'rt babyanimalpics', u'babyanimalpics husky', u'http 00l2utnmod', u'husky golden', u'mix', u'retriever mix', u'https ehwmmr3fyc', u'ehwmmr3fyc', u'rt cutepetclub', u'cutepetclub', u'cutepetclub husky', u'lhdtm0mq1v']\n",
      "\n",
      "Top words for cluster 31:\n",
      "[u'puppy', u'retriever puppy', u'golden retriever', u'retriever', u'golden', u'want golden', u'puppy bad', u'https f7qt381ns2', u'f7qt381ns2', u'bad', u'https', u'puppy https', u'need', u'2snrkokhbx', u'thebossgirls husky', u'rt thebossgirls', u'mix need', u'need https', u'https 2snrkokhbx', u'thebossgirls', u'rt khloudahmedh', u'khloudahmedh', u'khloudahmedh golden', u'getting golden', u'rt', u'just', u'want puppy', u'youtube', u'want', u'jennarmay want', u'jennarmay', u'rt jennarmay', u'getting', u'puppy golden', u'really golden', u'husky', u'really', u'goldensmexico golden', u'stay', u'rt goldensmexico', u'goldensmexico', u'puppy occupy', u'occupy time', u'bored', u'time bored', u'occupy', u'got', u'mix', u'forever', u'mix puppy']\n",
      "\n",
      "Top words for cluster 32:\n",
      "[u'corn cob', u'cob funniest', u'funniest thing', u'funniest', u'eat corn', u'eat', u'cob', u'retriever eat', u'corn', u'watching golden', u'watching', u'thing https', u'thing', u'https', u'golden retriever', u'retriever', u'golden', u'https ibpay61ngh', u'ju3dcn9ocj', u'ibpay61ngh', u'https ju3dcn9ocj', u'ibpay61ngh https', u'oozgiu0sfx https', u'oozgiu0sfx', u'https 8s4ds6xs4v', u'https oozgiu0sfx', u'8s4ds6xs4v', u'2d9lufnhsf https', u'2d9lufnhsf', u'bnvh1mtnca', u'https bnvh1mtnca', u'https 2d9lufnhsf', u'9heygc5tn5 https', u'9heygc5tn5', u'https 5djhawmg1n', u'https 9heygc5tn5', u'5djhawmg1n', u'qmpoxtvbah', u'https 8po4jflk38', u'qmpoxtvbah https', u'https qmpoxtvbah', u'8po4jflk38', u'https t7oqys7n7p', u'w6z8j0estt', u't7oqys7n7p', u't7oqys7n7p https', u'https w6z8j0estt', u'https 5awk3exnee', u'https p827htg9eo', u'p827htg9eo']\n",
      "\n",
      "Top words for cluster 33:\n",
      "[u'melon', u'water melon', u'https i7xzcrxx34', u'eating water', u'melon cutest', u'i7xzcrxx34', u'retriever eating', u'cutest thing', u'water', u'eating', u'cutest', u'animalinpics golden', u'animalinpics', u'rt animalinpics', u'thing https', u'thing', u'https', u'rt', u'golden retriever', u'retriever', u'golden', u'http r9of8n3dai', u'r9of8n3dai', u'carcass', u'deer carcass', u'road', u'carcass road', u'eating deer', u'petting cat', u'cat http', u'retriever petting', u'deer', u'thing earth', u'https pttj3kmpsz', u'earth', u'pttj3kmpsz', u'earth https', u'retriever cutest', u'petting', u'list', u'softest', u'softest amp', u'puppies softest', u'amp cutest', u'gisele', u'named gisele', u'0bzzon0ax1', u'friend golden', u'qycf8ggcwz', u'https qycf8ggcwz']\n",
      "\n",
      "Top words for cluster 34:\n",
      "[u'rolled hilariously', u'misses', u'cool https', u'hilariously tries', u'hilariously', u'ball rolled', u'rolled', u'tries', u'tries play', u'misses ball', u'retriever misses', u'play cool', u'cool', u'play', u'ball', u'https', u'golden retriever', u'https xvf7fay9em', u'https gfd0wojn48', u'gfd0wojn48', u'xvf7fay9em', u'xvf7fay9em https', u'egxqi243xp https', u'https egxqi243xp', u'p4h6vcyoti', u'egxqi243xp', u'https p4h6vcyoti', u'https gbsigirfwk', u'https mu4ufwxx4s', u'gbsigirfwk', u'mu4ufwxx4s', u'gbsigirfwk https', u'mhxrxqjsom', u'https 6bkwr5tfsf', u'https mhxrxqjsom', u'mhxrxqjsom https', u'6bkwr5tfsf', u'https aagccsvusp', u'aagccsvusp', u'whv6wtrz71', u'whv6wtrz71 https', u'https whv6wtrz71', u'6ndwykbzv5', u'l17fpquqeo', u'https l17fpquqeo', u'https 6ndwykbzv5', u'6ndwykbzv5 https', u'https zayhyy5kjw', u'zayhyy5kjw https', u'zayhyy5kjw']\n",
      "\n",
      "Top words for cluster 35:\n",
      "[u'adoptdontshop', u'paw homed2usa', u'homed2usa yr', u'paw', u'mao', u'mao golden', u'life dream', u'mao mao', u'dream adoptdontshop', u'living life', u'yr living', u'retriever paw', u'homed2usa', u'yr', u'living', u'dream', u'adoptdontshop htt', u'tacn_official', u'tacn_official mao', u'htt', u'rt tacn_official', u'life', u'rt', u'golden retriever', u'retriever', u'golden', u'qgrlq5az2w', u'https qgrlq5az2w', u'adoptdontshop https', u'https', u'dream dog', u'pup life', u'retriever life', u'want life', u'yr pet', u'sale original', u'pet thx', u'beirutart cute', u'qnjpmksxfv', u'book yr', u'thx https', u'https qnjpmksxfv', u'beirutart', u'thx', u'11 yr', u'yr old', u'fpzachffay', u'https fpzachffay', u'http okc1om5tn6', u'goldensmexico life']\n",
      "\n",
      "Top words for cluster 36:\n",
      "[u'confused encounters', u'encounters', u'adorably', u'adorably confused', u'encounters mirror', u'puppy adorably', u'mirror https', u'mirror', u'confused', u'retriever puppy', u'puppy', u'https', u'golden retriever', u'retriever', u'golden', u'xdim9lsv3o', u'https 0sqbrlovmx', u'xdim9lsv3o https', u'https xdim9lsv3o', u'0sqbrlovmx', u'0meph6syia', u's98uvdnudn', u'https s98uvdnudn', u'https 0meph6syia', u'0meph6syia https', u'https a3ktbgnh1h', u'frhdm3oecy', u'https frhdm3oecy', u'a3ktbgnh1h https', u'a3ktbgnh1h', u'1eaxncczc6', u'https 1eaxncczc6', u'https fjn4ulajpo', u'fjn4ulajpo', u'fjn4ulajpo https', u'https mou0lpvwar', u'mdacixqdpc https', u'mdacixqdpc', u'mou0lpvwar', u'https mdacixqdpc', u'okkydkoskr https', u'okkydkoskr', u'https okkydkoskr', u'https yiklaryd8w', u'yiklaryd8w', u'kgq8zx5seq', u'https kgq8zx5seq', u'udfiz6bpxg https', u'udfiz6bpxg', u'https udfiz6bpxg']\n",
      "\n",
      "Top words for cluster 37:\n",
      "[u'retriever really', u'really', u'wants race', u'race', u'really wants', u'hilarious golden', u'wants', u'hilarious', u'race things', u'petsncritters', u'rt petsncritters', u'petsncritters hilarious', u'things', u'dogs pets', u'things dogs', u'really irish', u'irish shedder', u'shedder', u'pretty sure', u'sure golden', u'pretty', u'irish', u'sure', u'https ywgxyjanxl', u'ywgxyjanxl', u'jami_usa', u'jami_usa pretty', u'rt jami_usa', u'pets https', u'pets', u'dogs', u'golden retriever', u'retriever', u'golden', u'https', u'https csbyryp2xk', u'csbyryp2xk', u'csbyryp2xk rt', u'rt', u'race https', u'https 5qfy9judfd', u'5qfy9judfd', u'don', u'really missing', u'don golden', u'missing', u'https zm7rfowtig', u'zm7rfowtig', u'https ingajhiwzh', u'ingajhiwzh youtube']\n",
      "\n",
      "Top words for cluster 38:\n",
      "[u'05322446401 https', u'05322446401', u'https 9ckoivvfjd', u'retriever yuva', u'ar\\u0131yor', u'ar\\u0131yor ileti\\u015fim', u'etimesgut', u'etimesgut ya\\u015flar\\u0131nda', u'ya\\u015flar\\u0131nda', u'ya\\u015flar\\u0131nda erkek', u'ankara', u'yuva', u'yuva ar\\u0131yor', u'9ckoivvfjd https', u'kayipkopek ankara', u'ileti\\u015fim 05322446401', u'9ckoivvfjd', u'ankara etimesgut', u'ileti\\u015fim', u'erkek', u'erkek golden', u'rt kayipkopek', u'kayipkopek', u'https', u'rt', u'golden retriever', u'retriever', u'golden', u'kayipkopek kocaeli', u'kayipkopek tekirda\\u011f', u'beyo\\u011flu sahipsiz', u'retriever bulundu', u'https z0b8i2v9uz', u'z0b8i2v9uz', u'z0b8i2v9uz https', u'ileti\\u015fim 05353345096', u'beyo\\u011flu', u'istanbul beyo\\u011flu', u'https lvu9b6desn', u'lvu9b6desn', u'08 08', u'https bgqdssyek8', u'bgqdssyek8', u'just https', u'afxx2nxjji', u'https afxx2nxjji', u'bulundu ileti\\u015fim', u'sahipsiz ya\\u015f\\u0131nda', u'list', u'bucket']\n",
      "\n",
      "Top words for cluster 39:\n",
      "[u'130814 naver', u'hyung compare', u'celeb', u'suho hyung', u'compare', u'hyung', u'naver', u'naver celeb', u'animal golden', u'suho', u'celeb kai', u'kai suho', u'kai', u'compare animal', u'130814', u'littleariel13 130814', u'rt littleariel13', u'littleariel13', u'animal', u'retriever cute', u'cute', u'rt', u'golden retriever', u'retriever', u'golden', u'1hotmdc8w4', u'https 1hotmdc8w4', u'retriever https', u'https', u'https wtaixnvpzu', u'wtaixnvpzu', u'05316160794 kay\\u0131p', u'c39w3pnptn', u'https c39w3pnptn', u'u2ijd0d4f4', u'https u2ijd0d4f4', u'u2ijd0d4f4 omg', u'https jvwfvbibvd', u'jvwfvbibvd', u'https wl094mjx9p', u'wl094mjx9p', u'afxx2nxjji', u'https afxx2nxjji', u'mother https', u'00l2utnmod', u'https 0qq23vl20z', u'0qq23vl20z https', u'0qq23vl20z', u'puppies live', u'chubby']\n",
      "\n",
      "Top words for cluster 40:\n",
      "[u'shares', u'shares photo', u'woman lost', u'woman', u'retriever shares', u'photo', u'lost', u'dog https', u'photo angel', u'lost beloved', u'angel dog', u'beloved', u'beloved golden', u'angel', u'dog', u'femail', u'chicago', u'https', u'photo ghost', u'chicago woman', u'ghost dog', u'lost golden', u'ghost', u'golden retriever', u'retriever', u'golden', u'lang', u'appeared', u'appeared ashley', u'ashley lang', u'dog appeared', u'ashley', u'https wqtv6ta8at', u'wqtv6ta8at', u'alddgig1dx https', u'https alddgig1dx', u'alddgig1dx', u'lang https', u'femail chicago', u'6lppt2y2yz', u'https 6lppt2y2yz', u'chicago https', u'goldenretriever', u'ixqqzjclch', u'https ixqqzjclch', u'yrstilt5n7', u'https yrstilt5n7', u'kzllpcesiu', u'https kzllpcesiu', u'tz7wnf5mpw']\n",
      "\n",
      "Top words for cluster 41:\n",
      "[u'retriever puppies', u'puppies', u'straight', u'year', u'retriever', u'golden retriever', u'golden', u'year old', u'old', u'puppies https', u'hurt', u'white ppl', u'talking bout', u'ppl', u'throat', u'feelings talking', u'slit throat', u'roast white', u'hurt yo', u'talking', u'bout', u'throat feed', u'bout ll', u'll slit', u'ppl roast', u'roast', u'ppl straight', u'yo feelings', u'slit', u'straight hurt', u'black ppl', u'feelings', u'white', u'feed', u'black', u'yo', u'll', u'_mikepearson black', u'rt _mikepearson', u'_mikepearson', u'old golden', u'interested', u'room filled', u'year straight', u'filled', u'filled golden', u'puppies year', u'want room', u'rt', u'just']\n",
      "\n",
      "Top words for cluster 42:\n",
      "[u'wishes', u'list wishes', u'gets bucket', u'dying golden', u'retriever gets', u'dying', u'gets', u'bucket list', u'bucket', u'list', u'breitbart https', u'wishes breitbart', u'breitbart', u'breitbartnews', u'wishes https', u'https', u'golden retriever', u'retriever', u'golden', u'rqnlprxwjf https', u'rqnlprxwjf', u'pmhqldielp', u'https pmhqldielp', u'https rqnlprxwjf', u'av70sylpaf', u'https av70sylpaf', u'https 4qamte6dgm', u'4qamte6dgm', u'https 54yzrw21zy', u'54yzrw21zy', u'b4m8k24lcu', u'https b4m8k24lcu', u'ej0psurgwl', u'https ej0psurgwl', u'ej0psurgwl breitbartnews', u'fbermr56pm breitbartnews', u'fbermr56pm', u'https fbermr56pm', u'iccrdwthyx', u'https iccrdwthyx', u'iccrdwthyx breitbartnews', u'https 047pfknybr', u'1zd0vlw9u5 breitbartnews', u'https 1zd0vlw9u5', u'1zd0vlw9u5', u'https 7sa9yf5ihe', u'7sa9yf5ihe', u'7sa9yf5ihe breitbartnews', u'https l3g1mnukad', u'l3g1mnukad']\n",
      "\n",
      "Top words for cluster 43:\n",
      "[u'15 https', u'15', u'usa', u'dogs', u'usa golden', u'oct', u'retriever oct', u'dogs lost', u'22 15', u'oct 22', u'22', u'lost', u'rt helpinglostpets', u'helpinglostpets', u'helpinglostpets dogs', u'jul', u'ca', u'retriever jul', u'ca golden', u'kincardine', u'kincardine ca', u'lost kincardine', u'tx usa', u'tx', u'lostdogtx', u'19 15', u'19', u'lostdogsohio', u'oh usa', u'dogs findlay', u'findlay', u'findlay oh', u'jul 19', u'oh', u'https', u'https fkouvvatrj', u'fkouvvatrj lostdogsohio', u'fkouvvatrj', u'dallas tx', u'dogs dallas', u'dallas', u'e80gxwdy5k', u'https e80gxwdy5k', u'golden retriever', u'retriever', u'golden', u'https xf1ardqilx', u'xf1ardqilx', u'xf1ardqilx lostdogtx', u'tepodkg1i5 lostpetsocal']\n",
      "\n",
      "Top words for cluster 44:\n",
      "[u'rt awwadorabie', u'xnn81nd4y4', u'awwadorabie adorable', u'awwadorabie', u'https xnn81nd4y4', u'adorable golden', u'puppy https', u'adorable', u'retriever puppy', u'puppy', u'https', u'rt', u'golden retriever', u'retriever', u'golden', u'f7qt381ns2', u'https f7qt381ns2', u'2ckrapeafp', u'https 9w8xjynqkx', u'https 2ckrapeafp', u'9w8xjynqkx', u'2ckrapeafp dogfinder', u'just really', u'goldensmexico adorable', u'0bzzon0ax1', u'05316160794', u'fewh4ipj3k', u'http fewh4ipj3k', u'pup http', u'047pfknybr breitbartnews', u'getting golden', u'rt abc', u'okay', u'retriever life', u'hqmkgxonse', u'https hqmkgxonse', u'house golden', u'retriever quality', u'got coupon', u'coupon', u'dream got', u'coupon free', u'dream right', u'quality dream', u'quality', u'incredibly adorable', u'pics torture', u'tayyshireyy incredibly', u'torture', u'tayyshireyy']\n",
      "\n",
      "Top words for cluster 45:\n",
      "[u'guide', u'retriever care', u'care', u'retriever guide', u'care training', u'training', u'50', u'https', u'absolute golden', u'secrets', u'guide discover', u'discover', u'discover secrets', u'absolute', u'guide 2015', u'2015 golden', u'complete golden', u'guide 50', u'care guide', u'2015', u'complete', u'training downloadable', u'downloadable', u'affiliate commission', u'commission', u'affiliate', u'50 affiliate', u'secrets adopting', u'golden retriever', u'retriever', u'golden', u'adopting', u'ebook audiobook', u'audiobook', u'ebook', u'downloadable ebook', u'training https', u'2014', u'2014 https', u'guide 2014', u'audiobook https', u'5lys1frqzw', u'lt https', u'cute lt', u'setter', u'irish setter', u'https 5lys1frqzw', u'retriever 50', u'setter 100', u'50 golden']\n",
      "\n",
      "Top words for cluster 46:\n",
      "[u'hello', u'puppy saying', u'saying hello', u'little golden', u'hello mother', u'saying', u'mother', u'little', u'retriever puppy', u'puppy', u'mother https', u'https', u'aww', u'mother aww', u'golden retriever', u'retriever', u'golden', u'aww https', u'9gag', u'cute', u'funny', u'https 2ptb3xfn2a', u'2ptb3xfn2a', u'wdi8j9pzpd', u'https wdi8j9pzpd', u'hek46mllyb', u'https hek46mllyb', u'https cdbrmpathg', u'cdbrmpathg', u'https 4agsnbywq0', u'4agsnbywq0', u'https x7vwgw9ayz', u'x7vwgw9ayz', u'https idqkuzn5ms', u'idqkuzn5ms', u'https bnoluglkd4', u'bnoluglkd4', u'kpp2fdpq5h', u'https kpp2fdpq5h', u'https pnujf4khrg', u'pnujf4khrg', u'4wfdqflupy', u'https 6a7enekaja', u'6a7enekaja', u'https 4wfdqflupy', u'srhhijsnxo', u'https srhhijsnxo', u'hdnqnsuacc', u'https hdnqnsuacc', u'ajvlasng1c little']\n",
      "\n",
      "Top words for cluster 47:\n",
      "[u'kitten growing', u'video shows', u'shows', u'shows adorable', u'time lapse', u'lapse', u'lapse video', u'adorable kitten', u'growing golden', u'growing', u'kitten', u'time', u'video', u'adorable', u'retriever https', u'https', u'nub8twple4', u'nub8twple4 https', u'https nrj4r3jq4i', u'https nub8twple4', u'nrj4r3jq4i', u'lejgmzkcwh', u'ngtammmtle', u'https ngtammmtle', u'lejgmzkcwh https', u'https lejgmzkcwh', u'gfs1oembpt https', u'https gfs1oembpt', u'https okhfxznffe', u'okhfxznffe', u'gfs1oembpt', u'w3a3oz8zfy', u'https w3a3oz8zfy', u'https 751xnvsvn4', u'w3a3oz8zfy https', u'751xnvsvn4', u'https uqz2mtsng0', u'jemcehhrg8', u'https jemcehhrg8', u'uqz2mtsng0', u'jemcehhrg8 https', u'9ctnhb2wvl', u'tjwvl5opec', u'https tjwvl5opec', u'https 9ctnhb2wvl', u'tjwvl5opec https', u'3a89gixjvp', u'zpuxraw86p https', u'https 3a89gixjvp', u'https zpuxraw86p']\n",
      "\n",
      "Top words for cluster 48:\n",
      "[u'wntonight', u'wntonight couple', u'rt wntonight', u'iuuymdmegk https', u'https iuuymdmegk', u'iuuymdmegk', u'couple', u'couple makes', u'list golden', u'makes bucket', u'retriever diagnosed', u'cancer https', u'diagnosed', u'diagnosed cancer', u'makes', u'cancer', u'bucket list', u'bucket', u'list', u'https', u'rt', u'golden retriever', u'retriever', u'golden', u'n3wmih5kfe', u'https n3wmih5kfe', u'nlqcjm2tks', u'https nlqcjm2tks', u'gpistyy8fn', u'https gpistyy8fn', u'https tc3mwxqoin', u'tc3mwxqoin', u'bn9awfemre', u'https bn9awfemre', u'https sfka0ultte', u'sfka0ultte', u'news couple', u'n4otkxzzwa', u'https n4otkxzzwa', u'news', u'8ybmj0c4e3', u'https 8ybmj0c4e3', u'https 72eqyplwp5', u'72eqyplwp5 https', u'72eqyplwp5', u'https ypevgw1xn6', u'ypevgw1xn6', u'https uxl3i7zzwd', u'uxl3i7zzwd https', u'uxl3i7zzwd']\n",
      "\n",
      "Top words for cluster 49:\n",
      "[u'retriever dog', u'444', u'444 adopt', u'rules colors', u'dog rules', u'shirt dog', u'colors 444', u'adopt https', u'dog shirt', u'shirt golden', u'rules', u'colors', u'shirt', u'adopt', u'dog', u'video https', u'video', u'vanilla', u'icecream', u'icecream video', u'goldensretrieve vanilla', u'https x4ohmkckkv', u'goldensretrieve', u'kvgjqzjk10', u'x4ohmkckkv', u'kvgjqzjk10 https', u'rt goldensretrieve', u'https kvgjqzjk10', u'vanilla icecream', u'https', u'hxvztzx1jz https', u'hxvztzx1jz', u'https hxvztzx1jz', u'ginger', u'ginger golden', u'golden ret', u'wasabi', u'eats', u'hands https', u'ret video', u'wasabi ginger', u'dog eats', u'eats hands', u'hands', u'ret', u'ylvk7xssrf https', u'ylvk7xssrf', u'https ylvk7xssrf', u'dojvaab9uq', u'dojvaab9uq https']\n",
      "\n"
     ]
    }
   ],
   "source": [
    "word_loadings = np.dot(centroids, svd.components_)\n",
    "vocab = vectorizer.get_feature_names()\n",
    "for k in range(0,my_k):\n",
    "    #word loadings = cluster_centers * eigenvectors \n",
    "    indices=[i for i in np.argsort(word_loadings[k,:])[::-1]]    \n",
    "    sorted_vocab=[vocab[i] for i in indices]\n",
    "    print(\"Top words for cluster {}:\\n{}\\n\".format(k, sorted_vocab[:50]))"
   ]
  },
  {
   "cell_type": "markdown",
   "metadata": {},
   "source": [
    "### Label Tweets\n",
    "Apply the model to the test set.\n",
    "\n",
    "# COMPLETE BELOW"
   ]
  },
  {
   "cell_type": "code",
   "execution_count": 175,
   "metadata": {
    "collapsed": true
   },
   "outputs": [],
   "source": [
    "def label_tweets(vectorizer, word_loadings, testing_data, sample_percentage=0.20):\n",
    "    \"\"\"\n",
    "    Label tweets.\n",
    "    \"\"\"\n",
    "    result = []\n",
    "    sample_size = int(len(testing_data)*sample_percentage)\n",
    "    sample_tweets = testing_data[:sample_size]\n",
    "    for tweet in sample_tweets:\n",
    "        # vectorize the tweet\n",
    "        sparse_array = vectorizer.fit_transform([tweet])\n",
    "        # subtract all values between the tweet vectorization and centroids\n",
    "        sparse_array_subtraction_abs = np.absolute(sparse_array - word_loadings)\n",
    "        # sum to get the total distances \n",
    "        sparse_array_subtraction_abs_sum = sparse_array_subtraction_abs.sum(axis=1)\n",
    "        # append the index of the minimum distance\n",
    "        result.append(np.argmin(sparse_array_subtraction_abs_sum))\n",
    "    return result\n"
   ]
  },
  {
   "cell_type": "code",
   "execution_count": null,
   "metadata": {
    "collapsed": true
   },
   "outputs": [],
   "source": [
    "vectorize_2(vocab)"
   ]
  }
 ],
 "metadata": {
  "kernelspec": {
   "display_name": "Python 2",
   "language": "python",
   "name": "python2"
  },
  "language_info": {
   "codemirror_mode": {
    "name": "ipython",
    "version": 2
   },
   "file_extension": ".py",
   "mimetype": "text/x-python",
   "name": "python",
   "nbconvert_exporter": "python",
   "pygments_lexer": "ipython2",
   "version": "2.7.10"
  }
 },
 "nbformat": 4,
 "nbformat_minor": 0
}
