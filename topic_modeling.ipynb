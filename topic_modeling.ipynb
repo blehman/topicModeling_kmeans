{
 "cells": [
  {
   "cell_type": "code",
   "execution_count": 1,
   "metadata": {
    "collapsed": false
   },
   "outputs": [
    {
     "name": "stderr",
     "output_type": "stream",
     "text": [
      "/Users/blehman/anaconda/lib/python2.7/site-packages/rpy2/robjects/robject.py:5: UserWarning: Loading required package: stats\n",
      "\n",
      "  rpy2.rinterface.initr()\n",
      "/Users/blehman/anaconda/lib/python2.7/site-packages/rpy2/robjects/robject.py:5: UserWarning: Loading required package: DBI\n",
      "\n",
      "  rpy2.rinterface.initr()\n",
      "/Users/blehman/anaconda/lib/python2.7/site-packages/rpy2/robjects/robject.py:5: UserWarning: Loading required package: rJava\n",
      "\n",
      "  rpy2.rinterface.initr()\n",
      "/Users/blehman/anaconda/lib/python2.7/site-packages/rpy2/robjects/robject.py:5: UserWarning: Error in .jcall(drv@jdrv, \"Ljava/sql/Connection;\", \"connect\", as.character(url)[1],  : \n",
      "  java.sql.SQLException: [Vertica][VJDBC](100176) Failed to connect to host localhost on port 5434. Reason: Connection refused\n",
      "\n",
      "  rpy2.rinterface.initr()\n"
     ]
    }
   ],
   "source": [
    "import json\n",
    "import itertools\n",
    "import pickle\n",
    "import hickle \n",
    "import gzip\n",
    "import operator\n",
    "import os\n",
    "import sys\n",
    "from time import time\n",
    "import pprint as pp\n",
    "import collections\n",
    "import ConfigParser\n",
    "\n",
    "import numpy as np\n",
    "import pandas as pd\n",
    "\n",
    "import twitter\n",
    "\n",
    "from sklearn.pipeline import make_pipeline\n",
    "from sklearn.preprocessing import Normalizer\n",
    "from sklearn.feature_extraction.text import TfidfVectorizer\n",
    "from sklearn.feature_extraction.text import CountVectorizer\n",
    "from sklearn.decomposition import TruncatedSVD\n",
    "from sklearn.cross_validation import train_test_split\n",
    "from sklearn.cluster import KMeans, MiniBatchKMeans\n",
    "from sklearn.externals import joblib\n",
    "\n",
    "\n",
    "# bokeh\n",
    "import bokeh.plotting as bkplt\n",
    "\n",
    "\n",
    "# import requirments \n",
    "from IPython.display import Image\n",
    "from IPython.display import display\n",
    "import matplotlib.pyplot as plt\n",
    "import json\n",
    "import rpy2\n",
    "%load_ext rpy2.ipython\n",
    "%R require(\"ggplot2\")\n",
    "% matplotlib inline\n",
    "from ggplot import *\n",
    "randn = np.random.randn"
   ]
  },
  {
   "cell_type": "markdown",
   "metadata": {},
   "source": [
    "### Setup & Creds\n",
    "Let's grab some json records from Twitter's public api. \n",
    "\n",
    "We'll use python-twitter. \n",
    "<pre>\n",
    "$ pip install python-twitter\n",
    "$ pydoc twitter.Api\n",
    "</pre>\n",
    "\n",
    "Build an app [https://apps.twitter.com/](https://apps.twitter.com/).  \n",
    "\n",
    "Then use the app info in the `config.cfg` file.\n",
    "    "
   ]
  },
  {
   "cell_type": "code",
   "execution_count": 2,
   "metadata": {
    "collapsed": false
   },
   "outputs": [
    {
     "name": "stdout",
     "output_type": "stream",
     "text": [
      "@BrianLehman\n"
     ]
    }
   ],
   "source": [
    "# read the config file.\n",
    "config = ConfigParser.RawConfigParser()\n",
    "config.read('myconfig.cfg')\n",
    "\n",
    "# creds found in your Twitter app. See https://apps.twitter.com/\n",
    "token = config.get('oauth','token')\n",
    "token_secret = config.get('oauth','token_secret')\n",
    "con_key = config.get('oauth','con_key')\n",
    "con_secret_key = config.get('oauth','con_secret_key')\n",
    "\n",
    "# setup \n",
    "api = twitter.Api(\n",
    "    consumer_key=con_key\n",
    "    , consumer_secret=con_secret_key\n",
    "    , access_token_key = token\n",
    "    , access_token_secret = token_secret)\n",
    "\n",
    "# test creds\n",
    "print \"@{}\".format(api.VerifyCredentials().GetScreenName())\n",
    "\n"
   ]
  },
  {
   "cell_type": "code",
   "execution_count": 15,
   "metadata": {
    "collapsed": false
   },
   "outputs": [
    {
     "name": "stdout",
     "output_type": "stream",
     "text": [
      "5000\n"
     ]
    }
   ],
   "source": [
    "# if False, then reuse previously sampled data.\n",
    "# if True, then get new data.\n",
    "run_ = False\n",
    "\n",
    "if run_:\n",
    "    # get ~5000 tweets from the public API.\n",
    "    results = api.GetSearch(term = 'golden retriever', count = 100, include_entities=True)                \n",
    "    counter = 1\n",
    "    total_tweets = 5000\n",
    "    tweets = []\n",
    "    while counter <= total_tweets:\n",
    "        if counter == 1:\n",
    "            new_results = api.GetSearch(term = 'golden retriever'\n",
    "                                        , count = 100\n",
    "                                        , max_id = results[-1].GetId()\n",
    "                                        , include_entities=True)\n",
    "        else:\n",
    "            new_results = api.GetSearch(term = 'golden retriever'\n",
    "                                        , count = 100\n",
    "                                        , max_id = new_results[-1].GetId()\n",
    "                                        , include_entities=True)\n",
    "        counter += len(new_results)\n",
    "        tweets.extend(new_results)\n",
    "    # store tweets\n",
    "    tweet_text = [tweet.GetText() for tweet in tweets]\n",
    "    print len(tweet_text)\n",
    "    pickle.dump(tweet_text,open('./data/tweet_text.pkl','wb'))\n",
    "    \n",
    "else:\n",
    "    # load example data\n",
    "    tweet_text = pickle.load(open('./data/tweet_text.pkl','rb'))\n",
    "    \n",
    "    \n"
   ]
  },
  {
   "cell_type": "markdown",
   "metadata": {},
   "source": [
    "### Train/Test set\n",
    "Split the training and test set."
   ]
  },
  {
   "cell_type": "code",
   "execution_count": 16,
   "metadata": {
    "collapsed": false
   },
   "outputs": [
    {
     "name": "stdout",
     "output_type": "stream",
     "text": [
      "train: 3,500\n",
      "test: 1,500\n"
     ]
    }
   ],
   "source": [
    "# Set up a training and test set.\n",
    "\n",
    "def create_index(total_tweets):\n",
    "        \"\"\"\n",
    "        Builds an index for the training and test set.\n",
    "        The sets serve as a list of row numbers to extract from the dataset. \n",
    "        \"\"\"\n",
    "        # based on the total tweet count, create an array of all line numbers \n",
    "        line_index = np.array(range(0,total_tweets))\n",
    "        # split the array into training and test sets of index values\n",
    "        trainIndex,testIndex = train_test_split(line_index,train_size=0.70, random_state=42)\n",
    "        # save test & traning index values\n",
    "        #np.save(\"training_index\",trainIndex)\n",
    "        #np.save(\"testing_index\",testIndex)\n",
    "        return trainIndex,testIndex\n",
    "if run_:\n",
    "    # build indicies \n",
    "    trainIndex,testIndex = create_index(len(tweet_text))\n",
    "    pickle.dump(trainIndex,open('data/trainIndex.pkl','wb'))\n",
    "    pickle.dump(testIndex,open('data/testIndex.pkl','wb'))\n",
    "\n",
    "    # build test set\n",
    "    test_tweets = [tweet_text[i] for i in testIndex]\n",
    "    pickle.dump(test_tweets,open('data/test_tweets.pkl','wb'))\n",
    "\n",
    "    train_tweets = [tweet_text[i] for i in trainIndex]\n",
    "    pickle.dump(test_tweets,open('data/train_tweets.pkl','wb'))\n",
    "    print \"train: {:,}\".format(len(train_tweets))\n",
    "    print \"test: {:,}\".format(len(test_tweets))\n",
    "else:\n",
    "    trainIndex = pickle.load(open('data/trainIndex.pkl','rb'))\n",
    "    testIndex = pickle.load(open('data/testIndex.pkl','rb'))\n",
    "    test_tweets = pickle.load(open('data/test_tweets.pkl','rb'))\n",
    "    train_tweets = pickle.load(open('data/train_tweets.pkl','rb'))\n"
   ]
  },
  {
   "cell_type": "markdown",
   "metadata": {},
   "source": [
    "### Vectorize the Tweets\n",
    "Two steps:  \n",
    "1.  Set up a vectorizer.\n",
    "2.  Vectorize the tweets to build the vocabulary."
   ]
  },
  {
   "cell_type": "code",
   "execution_count": 13,
   "metadata": {
    "collapsed": false
   },
   "outputs": [],
   "source": [
    "# Set up a vecterizer.\n",
    "# see http://scikit-learn.org/stable/modules/generated/sklearn.feature_extraction.text.TfidfVectorizer.html\n",
    "\n",
    "def vectorize_1():\n",
    "    vectorizer = TfidfVectorizer(#min_df=20\n",
    "                                 stop_words='english'\n",
    "                                 , use_idf=True # enable inverse-document-frequency reweighting\n",
    "                                 , ngram_range=(1,2) # given our vocab, not really necessary\n",
    "                                 , binary = True # presence of word instead of frequency\n",
    "                                 #, vocabulary = vocab\n",
    "                                ) \n",
    "    #X = vectorizer.fit_transform(tweet_list)\n",
    "    return vectorizer\n",
    "\n",
    "def vectorize_2(vocab):\n",
    "    vectorizer = CountVectorizer(stop_words='english'\n",
    "                                 , ngram_range=(1,2) # given our vocab, not really necessary\n",
    "                                 , binary = True # presence of word instead of frequency\n",
    "                                 , vocabulary = set(vocab)\n",
    "                                ) \n",
    "    #X = vectorizer.fit_transform(tweet_list)\n",
    "    return vectorizer\n"
   ]
  },
  {
   "cell_type": "code",
   "execution_count": 19,
   "metadata": {
    "collapsed": false
   },
   "outputs": [
    {
     "name": "stdout",
     "output_type": "stream",
     "text": [
      "tweets: 3,500\n",
      "vocabulary terms: 8,160\n"
     ]
    }
   ],
   "source": [
    "# Vectorize the tweets to build the vocabulary.\n",
    "vectorizer = vectorize_1()\n",
    "X = vectorizer.fit_transform(train_tweets)\n",
    "shape = X.get_shape()\n",
    "print \"tweets: {:,}\".format(X.get_shape()[0])\n",
    "print \"vocabulary terms: {:,}\".format(X.get_shape()[1])"
   ]
  },
  {
   "cell_type": "markdown",
   "metadata": {},
   "source": [
    "Progress (pre reduction):\n",
    "* Total tweets: 3,500. \n",
    "\n",
    "* Total dimensions: __8,160__. \n",
    "\n",
    "### Dimension Reduction\n",
    "\n",
    "To choose the appropriate number of svd components, we need to explore the amount of variance explained with each component. We'll reduce the number of components to 600. This number provides about 90% of the explained variance.  "
   ]
  },
  {
   "cell_type": "code",
   "execution_count": 27,
   "metadata": {
    "collapsed": true
   },
   "outputs": [],
   "source": [
    "#explained_variances = np.var(X_svd, axis=0) / np.var(X_train, axis=0).sum()\n",
    "def create_svd_doc_term_matrix(X_train, num_eigen_vectors=100):\n",
    "    \"\"\"\n",
    "    Create the array with truncated svd.\n",
    "    \"\"\"\n",
    "    # Build the fuction to create the svd space\n",
    "    svd = TruncatedSVD(n_components = num_eigen_vectors)\n",
    "    # Apply normalization in place to each row of the data \n",
    "    pipeline = make_pipeline(svd, Normalizer(copy=False))\n",
    "    return pipeline.fit_transform(X_train), svd"
   ]
  },
  {
   "cell_type": "code",
   "execution_count": 23,
   "metadata": {
    "collapsed": false
   },
   "outputs": [
    {
     "data": {
      "text/html": [
       "<div>\n",
       "<table border=\"1\" class=\"dataframe\">\n",
       "  <thead>\n",
       "    <tr style=\"text-align: right;\">\n",
       "      <th></th>\n",
       "      <th>components</th>\n",
       "      <th>explained_var</th>\n",
       "    </tr>\n",
       "  </thead>\n",
       "  <tbody>\n",
       "    <tr>\n",
       "      <th>0</th>\n",
       "      <td>100</td>\n",
       "      <td>0.758546</td>\n",
       "    </tr>\n",
       "    <tr>\n",
       "      <th>1</th>\n",
       "      <td>150</td>\n",
       "      <td>0.787840</td>\n",
       "    </tr>\n",
       "    <tr>\n",
       "      <th>2</th>\n",
       "      <td>200</td>\n",
       "      <td>0.808351</td>\n",
       "    </tr>\n",
       "    <tr>\n",
       "      <th>3</th>\n",
       "      <td>250</td>\n",
       "      <td>0.826400</td>\n",
       "    </tr>\n",
       "    <tr>\n",
       "      <th>4</th>\n",
       "      <td>300</td>\n",
       "      <td>0.842720</td>\n",
       "    </tr>\n",
       "    <tr>\n",
       "      <th>5</th>\n",
       "      <td>350</td>\n",
       "      <td>0.858485</td>\n",
       "    </tr>\n",
       "    <tr>\n",
       "      <th>6</th>\n",
       "      <td>400</td>\n",
       "      <td>0.873053</td>\n",
       "    </tr>\n",
       "    <tr>\n",
       "      <th>7</th>\n",
       "      <td>450</td>\n",
       "      <td>0.887815</td>\n",
       "    </tr>\n",
       "    <tr>\n",
       "      <th>8</th>\n",
       "      <td>500</td>\n",
       "      <td>0.901834</td>\n",
       "    </tr>\n",
       "    <tr>\n",
       "      <th>9</th>\n",
       "      <td>550</td>\n",
       "      <td>0.914997</td>\n",
       "    </tr>\n",
       "    <tr>\n",
       "      <th>10</th>\n",
       "      <td>600</td>\n",
       "      <td>0.926728</td>\n",
       "    </tr>\n",
       "    <tr>\n",
       "      <th>11</th>\n",
       "      <td>650</td>\n",
       "      <td>0.936397</td>\n",
       "    </tr>\n",
       "    <tr>\n",
       "      <th>12</th>\n",
       "      <td>700</td>\n",
       "      <td>0.944830</td>\n",
       "    </tr>\n",
       "    <tr>\n",
       "      <th>13</th>\n",
       "      <td>750</td>\n",
       "      <td>0.952276</td>\n",
       "    </tr>\n",
       "  </tbody>\n",
       "</table>\n",
       "</div>"
      ],
      "text/plain": [
       "    components  explained_var\n",
       "0          100       0.758546\n",
       "1          150       0.787840\n",
       "2          200       0.808351\n",
       "3          250       0.826400\n",
       "4          300       0.842720\n",
       "5          350       0.858485\n",
       "6          400       0.873053\n",
       "7          450       0.887815\n",
       "8          500       0.901834\n",
       "9          550       0.914997\n",
       "10         600       0.926728\n",
       "11         650       0.936397\n",
       "12         700       0.944830\n",
       "13         750       0.952276"
      ]
     },
     "metadata": {},
     "output_type": "display_data"
    },
    {
     "data": {
      "text/plain": [
       "<matplotlib.axes._subplots.AxesSubplot at 0x129f2fb50>"
      ]
     },
     "metadata": {},
     "output_type": "display_data"
    },
    {
     "data": {
      "image/png": "[encoded data removed]",
      "text/plain": [
       "<matplotlib.figure.Figure at 0x129f2f810>"
      ]
     },
     "metadata": {},
     "output_type": "display_data"
    }
   ],
   "source": [
    "explained_variance_list = []\n",
    "# The number of svd components to explore\n",
    "svd_component_range = range(100,751,50)\n",
    "\n",
    "# finds the explained variance for each number of components\n",
    "for i in svd_component_range:\n",
    "    # find explained variance (i in this case is the number of components to use)\n",
    "    X_svd, svd = create_svd_doc_term_matrix(X,i)\n",
    "    explained_variance_list.append(svd.explained_variance_ratio_.sum())\n",
    "\n",
    "expVar = pd.DataFrame({'explained_var':explained_variance_list\n",
    "                   , 'components':svd_component_range})\n",
    "display(expVar)\n",
    "\n",
    "display(expVar.plot(x='components',y='explained_var'))\n"
   ]
  },
  {
   "cell_type": "markdown",
   "metadata": {},
   "source": [
    "Based on the above graphs, we see that about 500 of the svd components explains over 90% of the variance in the data set. "
   ]
  },
  {
   "cell_type": "code",
   "execution_count": 25,
   "metadata": {
    "collapsed": false
   },
   "outputs": [
    {
     "data": {
      "text/plain": [
       "(3500, 500)"
      ]
     },
     "execution_count": 25,
     "metadata": {},
     "output_type": "execute_result"
    }
   ],
   "source": [
    "X_svd, svd = create_svd_doc_term_matrix(X,500)\n",
    "X_svd.shape"
   ]
  },
  {
   "cell_type": "markdown",
   "metadata": {},
   "source": [
    "Progress (post reduction):\n",
    "* Total tweets: 3,556. \n",
    "\n",
    "* Total dimensions: <s>8,160</s> __500__.   "
   ]
  },
  {
   "cell_type": "markdown",
   "metadata": {},
   "source": [
    "### Create Cluster Centroids\n",
    "We'll now apply kmeans to find the centroids that will be used to predict a cluster for each tweet."
   ]
  },
  {
   "cell_type": "code",
   "execution_count": 28,
   "metadata": {
    "collapsed": true
   },
   "outputs": [],
   "source": [
    "def build_clusters(X_svd, k=5):\n",
    "    \"\"\"\n",
    "    Use kmeans to find centroids.\n",
    "    \"\"\"\n",
    "    km = KMeans(n_clusters=k\n",
    "                , init='k-means++'\n",
    "                , max_iter=100\n",
    "                #, n_init=10\n",
    "                , verbose=False)\n",
    "    km.fit(X_svd)\n",
    "    pred=km.predict(X_svd)\n",
    "    pred_df=pd.DataFrame(pred)\n",
    "    pred_df.columns=['pred_cluster']\n",
    "    return km.cluster_centers_ , pred_df, k\n"
   ]
  },
  {
   "cell_type": "markdown",
   "metadata": {},
   "source": [
    "Choosing k, the number of clusters, can involve much more analaysis than this tutorial is targeting. See [@jrmontag](https://twitter.com/jrmontag)'s insightful tutorial for more deatils: [choosing-k-in-kmeans](https://github.com/DrSkippy/Data-Science-45min-Intros/tree/master/choosing-k-in-kmeans)."
   ]
  },
  {
   "cell_type": "code",
   "execution_count": 71,
   "metadata": {
    "collapsed": true
   },
   "outputs": [],
   "source": [
    "# Choose number of clusters\n",
    "my_k = 10"
   ]
  },
  {
   "cell_type": "code",
   "execution_count": 72,
   "metadata": {
    "collapsed": false
   },
   "outputs": [],
   "source": [
    "# Build centroids\n",
    "centroids, predictions, n_clusters = build_clusters(X_svd, my_k)\n",
    "pickle.dump(centroids, open('./data/centroids'+str(my_k)+'.pkl','wb'))\n",
    "pickle.dump(predictions, open('./data/predictions'+str(my_k)+'.pkl','wb')) "
   ]
  },
  {
   "cell_type": "markdown",
   "metadata": {},
   "source": [
    "### Explore Word Loadings\n",
    "Those tweets nearest the cluster centers are used as an approximation for their meanings."
   ]
  },
  {
   "cell_type": "code",
   "execution_count": 73,
   "metadata": {
    "collapsed": false
   },
   "outputs": [
    {
     "name": "stdout",
     "output_type": "stream",
     "text": [
      "Top words for cluster 0:\n",
      "[u'https jign6rxdr5', u'jign6rxdr5', u'retriever realizes', u'fit old', u'realizes fit', u'anymore', u'realizes', u'anymore https', u'fit', u'place anymore', u'old place', u'baby golden', u'babyanimalpics baby', u'place', u'rt babyanimalpics', u'babyanimalpics', u'baby', u'old', u'rt', u'https', u'golden retriever', u'retriever', u'golden', u'ijieehrwfu', u'https ijieehrwfu', u'sibjbgrf2r', u'https sibjbgrf2r', u'uikumrh5hu barbie', u'https uikumrh5hu', u'barbie', u'uikumrh5hu', u'retriever amp', u'babyanimalgifs husky', u'05326719029 denizz1905_ua', u'210', u'x16 210', u'loves owner', u'love like', u'kise', u'loves', u'knbnsfw kise', u'knbnsfw', u'kise love', u'retriever loves', u'rt knbnsfw', u'im dying', u'vlf9gzu23k', u'http vlf9gzu23k', u'cooitweetshere', u'cooitweetshere husky']\n",
      "\n",
      "Top words for cluster 1:\n",
      "[u'omwuces4sh', u'art golden', u'showmethecraft', u'dog art', u'https fsq98bcquk', u'vyaart https', u'showmethecraft dog', u'vyaart', u'fsq98bcquk', u'dog print', u'print retriever', u'https omwuces4sh', u'rt showmethecraft', u'fsq98bcquk https', u'retriever oil', u'oil', u'oil vyaart', u'print', u'art', u'retriever dog', u'dog', u'rt', u'https', u'golden retriever', u'retriever', u'golden', u'month', u'mixed', u'10 dog', u'shepherd mix', u'mix 10', u'cluurbuuur dog', u'cluurbuuur', u'rt cluurbuuur', u'dog definitely', u'x16 214', u'214', u'10 10', u'mandie_melton13', u'mandie_melton13 golden', u'1ffolohsxi etsy', u'miaomiaodesign https', u'watercolor', u'golden miaomiaodesign', u'watercolor art', u'https 1ffolohsxi', u'miaomiaodesign', u'art print', u'print golden', u'1ffolohsxi']\n",
      "\n",
      "Top words for cluster 2:\n",
      "[u'amp mastiff', u'mastiff mixed', u'bloodhound golden', u'husky bloodhound', u'bloodhound', u'mastiff', u'mixed', u'https 498vuwjeq7', u'498vuwjeq7', u'mixed https', u'babyanimalgifs husky', u'babyanimalgifs', u'rt babyanimalgifs', u'retriever amp', u'amp', u'husky', u'rt', u'https', u'golden retriever', u'retriever', u'golden', u'00l2utnmod', u'babyanimalpics husky', u'http 00l2utnmod', u'mixed http', u'http', u'babyanimalpics', u'rt babyanimalpics', u'lhdtm0mq1v', u'http lhdtm0mq1v', u'215', u'x16 215', u'want http', u'life golden', u'0d21axxenw', u'rid cat', u'rid', u'cat weekend', u'weekend nvm', u'weekend', u'don really', u'nvm', u'mom want', u'nvm don', u'retriever rid', u'http vvwzk62388', u'ayl\\u0131k di\\u015fi', u'tuanamey 05333300833', u'\\xe7ekmek\\xf6y ayl\\u0131k', u'\\xe7ekmek\\xf6y']\n",
      "\n",
      "Top words for cluster 3:\n",
      "[u'heeelp', u'harry_styles harry', u'harry_styles', u'im getting', u'retriever heeelp', u'getting month', u'harry golden', u'heeelp im', u'harry', u'month', u'im', u'month x16', u'x16', u'getting', u'golden retriever', u'retriever', u'golden', u'311', u'x16 311', u'x16 211', u'211', u'216', u'x16 216', u'222', u'x16 222', u'x16 210', u'210', u'226', u'x16 226', u'215', u'x16 215', u'227', u'x16 227', u'224', u'x16 224', u'179', u'x16 179', u'218', u'x16 218', u'x16 214', u'214', u'x16 262', u'x16 447', u'x16 284', u'375', u'x16 375', u'416', u'x16 416', u'446', u'x16 446']\n",
      "\n",
      "Top words for cluster 4:\n",
      "[u'golden', u'retriever', u'golden retriever', u'https', u'want', u'rt', u'http', u'puppy', u'kayipkopek', u'mix', u'husky', u'husky golden', u'rt kayipkopek', u'retriever puppy', u'ya\\u015f\\u0131nda', u'retriever mix', u'istanbul', u'kayipkopek istanbul', u'want golden', u'mix want', u'dog', u'retriever https', u'kay\\u0131p', u'want http', u'need', u'puppies', u'dogs', u'ileti\\u015fim', u'retriever puppies', u'kayipkopek https', u'service', u'family', u'just', u'bulundu', u'kay\\u0131p ileti\\u015fim', u'service dog', u'seaworld', u'special', u'di\\u015fi', u'di\\u015fi golden', u'sleepy', u'ya\\u015f\\u0131nda golden', u'retriever bulundu', u'avc\\u0131lar', u'istanbul avc\\u0131lar', u'sahipsiz', u'sahipsiz ya\\u015f\\u0131nda', u'avc\\u0131lar sahipsiz', u'bulundu 05454509789', u'05454509789']\n",
      "\n",
      "Top words for cluster 5:\n",
      "[u'sounds like', u'sounds', u'head sounds', u'parks', u'theme', u'inside', u'inside golden', u'retriever head', u'head', u'theme song', u'song', u'recreation', u'parks recreation', u'recreation theme', u'like', u'probably inside', u'song probably', u'probably', u'hipsterious_', u'hipsterious_ parks', u'rt hipsterious_', u'song inside', u'golden retriever', u'retriever', u'golden', u'voguemorge parks', u'voguemorge', u'rt', u'like https', u'rec', u'parks rec', u'times', u'the_rug', u'rec theme', u'the_rug parks', u'rt the_rug', u'like times', u'https fhpnvqbyaf', u'fhpnvqbyaf', u'https muwnxbqgj0', u'muwnxbqgj0', u'z20vbkramb', u'https z20vbkramb', u'https cdg1i4uvlk', u'cdg1i4uvlk', u'https 0o098odhhe', u'0o098odhhe', u'opening theme', u'opening', u'like parks']\n",
      "\n",
      "Top words for cluster 6:\n",
      "[u'amp videos', u'happens host', u'peta', u'peta happens', u'host', u'host serves', u'serves', u'happens', u'serves golden', u'videos make', u'videos', u'make', u'c5fncwdd5e https', u'https c5fncwdd5e', u'vegan https', u'make vegan', u'vegan', u'rt peta', u'c5fncwdd5e', u'retriever amp', u'amp', u'https', u'rt', u'golden retriever', u'retriever', u'golden', u'6v4zs83ww2', u'make https', u'peta peta', u'https 6v4zs83ww2', u'retweeted peta', u'retweeted', u'og8nplpwto', u'art https', u'purves mormorjan', u'purves', u'https og8nplpwto', u'janet', u'janet purves', u'retweeted janet', u'babyanimalgifs husky', u'https khkygssx7d', u'khkygssx7d', u'rt psblakely', u'psblakely', u'psblakely retweeted', u'ed', u'ed sheeran', u'voice pictures', u'voice']\n",
      "\n",
      "Top words for cluster 7:\n",
      "[u'watch golden', u'watch', u'viralspell', u'chow chow', u'chow', u'puppy takes', u'pal walk', u'pal', u'chow pal', u'takes chow', u'walk', u'takes', u'walk https', u'retriever puppy', u'puppy', u'tiny', u'bathtub', u'tiny bathtub', u'makes tiny', u'retriever makes', u'bathtub https', u'makes', u'https', u'golden retriever', u'retriever', u'golden', u'tg7qsz16ez https', u'https tg7qsz16ez', u'https oynjhisxtp', u'oynjhisxtp viralspell', u'oynjhisxtp', u'tg7qsz16ez', u'walker https', u'human walker', u'walker', u'needs human', u'walk needs', u'needs', u'human', u'eibkqejhzs news', u'eibkqejhzs', u'https eibkqejhzs', u'news', u'g5yapwqtnk', u'https g5yapwqtnk', u'g5yapwqtnk https', u'https aqhgcmaest', u'aqhgcmaest', u'https 8iadgfvior', u'qkq0r9ktss viralspell']\n",
      "\n",
      "Top words for cluster 8:\n",
      "[u'cat play', u'puppy tries', u'hard', u'hard cat', u'tries hard', u'tries', u'watch puppy', u'play https', u'cat', u'play', u'viralspell', u'watch', u'puppy', u'https', u'5ijviaikty', u'https alwf4h8rrr', u'https 5ijviaikty', u'alwf4h8rrr', u'5ijviaikty viralspell', u'alwf4h8rrr https', u'l4anpmevtu', u'l4anpmevtu viralspell', u'g2wab3o4ra', u'g2wab3o4ra https', u'https g2wab3o4ra', u'https l4anpmevtu', u'8ifwief0q8', u'https rnrfulbrad', u'rnrfulbrad https', u'https 8ifwief0q8', u'rnrfulbrad', u'8ifwief0q8 viralspell', u'https x0exz7n6qx', u'ivcfvgrawv viralspell', u'ivcfvgrawv', u'x0exz7n6qx', u'https ivcfvgrawv', u'x0exz7n6qx https', u'su4fr5exwe', u'https rs2dbzfyan', u'https su4fr5exwe', u'su4fr5exwe https', u'rs2dbzfyan', u'rs2dbzfyan viralspell', u'clth7u58e1', u'6jwfcls88b', u'6jwfcls88b https', u'https clth7u58e1', u'clth7u58e1 viralspell', u'https 6jwfcls88b']\n",
      "\n",
      "Top words for cluster 9:\n",
      "[u'puppy saying', u'hello', u'saying', u'saying hello', u'hello mother', u'mother https', u'mother', u'little golden', u'https jsi2mkitnz', u'jsi2mkitnz', u'little', u'rt 9gagtweets', u'9gagtweets little', u'9gagtweets', u'retriever puppy', u'puppy', u'rt', u'https', u'golden retriever', u'retriever', u'golden', u'9gag', u'estbltxgtg https', u'clkf3ijh0v', u'https clkf3ijh0v', u'clkf3ijh0v 9gag', u'https rxe7v4n354', u'estbltxgtg', u'9gag https', u'https estbltxgtg', u'rxe7v4n354', u'x16 218', u'218', u'ijieehrwfu', u'https ijieehrwfu', u'month', u'05326719029', u'x16 226', u'226', u'husky', u'https khkygssx7d', u'khkygssx7d', u'puppy stay', u'stay', u'stay little', u'little forever', u'retriever pic', u'https dduhxqao0n', u'husband golden', u'dduhxqao0n']\n",
      "\n"
     ]
    }
   ],
   "source": [
    "word_loadings = np.dot(centroids, svd.components_)\n",
    "pickle.dump(word_loadings,open('./data/word_loadings.pkl','wb'))\n",
    "vocab = vectorizer.get_feature_names()\n",
    "pickle.dump(vocab,open('./data/vocab.pkl','wb'))\n",
    "for k in range(0,my_k):\n",
    "    #word loadings = cluster_centers * eigenvectors \n",
    "    indices=[i for i in np.argsort(word_loadings[k,:])[::-1]]    \n",
    "    sorted_vocab=[vocab[i] for i in indices]\n",
    "    print(\"Top words for cluster {}:\\n{}\\n\".format(k, sorted_vocab[:50]))"
   ]
  },
  {
   "cell_type": "markdown",
   "metadata": {},
   "source": [
    "### Label New Tweets\n",
    "Apply the model to the test set."
   ]
  },
  {
   "cell_type": "code",
   "execution_count": 74,
   "metadata": {
    "collapsed": true
   },
   "outputs": [],
   "source": [
    "def label_tweets(vectorizer, word_loadings, testing_data, sample_percentage=0.20):\n",
    "    \"\"\"\n",
    "    Label tweets.\n",
    "    \"\"\"\n",
    "    result = []\n",
    "    sample_size = int(len(testing_data)*sample_percentage)\n",
    "    sample_tweets = testing_data[:sample_size]\n",
    "    for tweet in sample_tweets:\n",
    "        # vectorize the tweet\n",
    "        sparse_array = vectorizer.fit_transform([tweet])\n",
    "        # subtract all values between the tweet vectorization and centroids\n",
    "        sparse_array_subtraction_abs = np.absolute(sparse_array - word_loadings)\n",
    "        # sum to get the total distances \n",
    "        sparse_array_subtraction_abs_sum = sparse_array_subtraction_abs.sum(axis=1)\n",
    "        # append the index of the minimum distance\n",
    "        result.append(np.argmin(sparse_array_subtraction_abs_sum))\n",
    "    return result"
   ]
  },
  {
   "cell_type": "code",
   "execution_count": 75,
   "metadata": {
    "collapsed": true
   },
   "outputs": [],
   "source": [
    "#test_vectorizer = vectorize_2(vocab)"
   ]
  },
  {
   "cell_type": "code",
   "execution_count": 76,
   "metadata": {
    "collapsed": true
   },
   "outputs": [],
   "source": [
    "class TopicModel():\n",
    "    \"\"\"\n",
    "    Topic clusters built from 2012 soda rules, SVD applied, kmeans for centroids. New tweets\n",
    "    are labled by their nearness to centroids.\n",
    "    \"\"\"\n",
    "    def __init__(self):\n",
    "        \"\"\"\n",
    "        Load and initialize any external models or data here.\n",
    "        \"\"\"\n",
    "        self.word_loadings = pickle.load(open('./data/word_loadings.pkl'))\n",
    "        self.vocab = pickle.load(open('./data/vocab.pkl'))\n",
    "        self.vectorizer = CountVectorizer(stop_words='english'\n",
    "                                          , ngram_range = (1,2)\n",
    "                                          , binary = True # presence of word instead of frequency\n",
    "                                          , vocabulary = self.vocab\n",
    "                                         )\n",
    "        self.tweets = pickle.load(open('./data/test_tweets.pkl')) \n",
    "    def enrichment_value(self):\n",
    "        \"\"\"\n",
    "        Calculates the nearest cluster for an unlabeled tweet using the vocab and cluster centers from the training set.\n",
    "        \"\"\"\n",
    "        tweetTxt = self.tweets\n",
    "        # vectorize the tweet\n",
    "        sparse_array = self.vectorizer.fit_transform(tweetTxt).toarray()\n",
    "        for item in sparse_array:\n",
    "            # multiply the weights by the vector\n",
    "            weighted_sparse_array = item * self.word_loadings\n",
    "            # dot product to find the sum of the token weights for this specific tweet\n",
    "            sums = [np.dot(item,row) for row in self.word_loadings]\n",
    "            # return the following\n",
    "            result = {\n",
    "                    \"clusterID\": np.argmax(sums)\n",
    "                    , \"min_score\": np.min(sums)\n",
    "                    , \"max_score\": np.max(sums)\n",
    "                    , \"mean_score\": np.mean(sums)\n",
    "                    , \"stdev_score\": np.std(sums)\n",
    "                    }\n",
    "            yield result\n",
    "    def __repr__(self):\n",
    "        \"\"\" Add a description of the class's function here \"\"\"\n",
    "        return(\"Topic clusters built from 2012 soda rules Tweets are vectorized using CountVectorizer to icludes 2grams in the vocab. \\\n",
    "                The 50 topic clusters are built from 2012 data soda rules, SVD applied, \\\n",
    "                kmeans for centroids. New tweets are labled by their nearness to centroids.Result returned provides score information.\")\n"
   ]
  },
  {
   "cell_type": "code",
   "execution_count": 77,
   "metadata": {
    "collapsed": false
   },
   "outputs": [],
   "source": [
    "# Create instance of model and label tweets\n",
    "model = TopicModel()\n",
    "test_data = model.enrichment_value()\n",
    "clusterID_list = [data['clusterID'] for data in test_data]\n",
    "clusterID_df = pd.DataFrame(data=clusterID_list,columns=['clusterID'])"
   ]
  },
  {
   "cell_type": "code",
   "execution_count": 78,
   "metadata": {
    "collapsed": false
   },
   "outputs": [
    {
     "data": {
      "text/plain": [
       "array([[<matplotlib.axes._subplots.AxesSubplot object at 0x122c57a90>]], dtype=object)"
      ]
     },
     "execution_count": 78,
     "metadata": {},
     "output_type": "execute_result"
    },
    {
     "data": {
      "image/png": "[encoded data removed]",
      "text/plain": [
       "<matplotlib.figure.Figure at 0x12d6895d0>"
      ]
     },
     "metadata": {},
     "output_type": "display_data"
    }
   ],
   "source": [
    "# review clusterID distribution \n",
    "clusterID_df.hist(bins=50)"
   ]
  }
 ],
 "metadata": {
  "kernelspec": {
   "display_name": "Python 2",
   "language": "python",
   "name": "python2"
  },
  "language_info": {
   "codemirror_mode": {
    "name": "ipython",
    "version": 2
   },
   "file_extension": ".py",
   "mimetype": "text/x-python",
   "name": "python",
   "nbconvert_exporter": "python",
   "pygments_lexer": "ipython2",
   "version": "2.7.10"
  }
 },
 "nbformat": 4,
 "nbformat_minor": 0
}
