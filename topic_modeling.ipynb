{
 "cells": [
  {
   "cell_type": "code",
   "execution_count": 1,
   "metadata": {
    "collapsed": false
   },
   "outputs": [
    {
     "name": "stderr",
     "output_type": "stream",
     "text": [
      "/Users/blehman/anaconda/lib/python2.7/site-packages/rpy2/robjects/robject.py:5: UserWarning: Loading required package: stats\n",
      "\n",
      "  rpy2.rinterface.initr()\n",
      "/Users/blehman/anaconda/lib/python2.7/site-packages/rpy2/robjects/robject.py:5: UserWarning: Loading required package: DBI\n",
      "\n",
      "  rpy2.rinterface.initr()\n",
      "/Users/blehman/anaconda/lib/python2.7/site-packages/rpy2/robjects/robject.py:5: UserWarning: Loading required package: rJava\n",
      "\n",
      "  rpy2.rinterface.initr()\n",
      "/Users/blehman/anaconda/lib/python2.7/site-packages/rpy2/robjects/robject.py:5: UserWarning: Error in .jcall(drv@jdrv, \"Ljava/sql/Connection;\", \"connect\", as.character(url)[1],  : \n",
      "  java.sql.SQLException: [Vertica][VJDBC](100176) Failed to connect to host localhost on port 5434. Reason: Connection refused\n",
      "\n",
      "  rpy2.rinterface.initr()\n"
     ]
    }
   ],
   "source": [
    "import json\n",
    "import itertools\n",
    "import pickle\n",
    "import hickle \n",
    "import gzip\n",
    "import operator\n",
    "import os\n",
    "import sys\n",
    "from time import time\n",
    "import pprint as pp\n",
    "import collections\n",
    "import ConfigParser\n",
    "\n",
    "import numpy as np\n",
    "import pandas as pd\n",
    "\n",
    "import twitter\n",
    "\n",
    "from sklearn.pipeline import make_pipeline\n",
    "from sklearn.preprocessing import Normalizer\n",
    "from sklearn.feature_extraction.text import TfidfVectorizer\n",
    "from sklearn.feature_extraction.text import CountVectorizer\n",
    "from sklearn.decomposition import TruncatedSVD\n",
    "from sklearn.cross_validation import train_test_split\n",
    "from sklearn.cluster import KMeans, MiniBatchKMeans\n",
    "from sklearn.externals import joblib\n",
    "\n",
    "\n",
    "# bokeh\n",
    "import bokeh.plotting as bkplt\n",
    "\n",
    "\n",
    "# import requirments \n",
    "from IPython.display import Image\n",
    "from IPython.display import display\n",
    "import matplotlib.pyplot as plt\n",
    "import json\n",
    "import rpy2\n",
    "%load_ext rpy2.ipython\n",
    "%R require(\"ggplot2\")\n",
    "% matplotlib inline\n",
    "from ggplot import *\n",
    "randn = np.random.randn"
   ]
  },
  {
   "cell_type": "markdown",
   "metadata": {},
   "source": [
    "### Data\n",
    "Let's grab some json records from Twitter's public api. \n",
    "\n",
    "We'll use python-twitter. \n",
    "<pre>\n",
    "$ pip install python-twitter\n",
    "$ pydoc twitter.Api\n",
    "</pre>\n",
    "\n",
    "Build an app [https://apps.twitter.com/](https://apps.twitter.com/).  \n",
    "\n",
    "Then use the app info in the `config.cfg` file.\n",
    "    "
   ]
  },
  {
   "cell_type": "code",
   "execution_count": 2,
   "metadata": {
    "collapsed": false
   },
   "outputs": [
    {
     "name": "stdout",
     "output_type": "stream",
     "text": [
      "@BrianLehman\n"
     ]
    }
   ],
   "source": [
    "# read the config file.\n",
    "config = ConfigParser.RawConfigParser()\n",
    "config.read('myconfig.cfg')\n",
    "\n",
    "# provided w/ Twitter app. See https://apps.twitter.com/\n",
    "token = config.get('oauth','token')\n",
    "token_secret = config.get('oauth','token_secret')\n",
    "con_key = config.get('oauth','con_key')\n",
    "con_secret_key = config.get('oauth','con_secret_key')\n",
    "\n",
    "# setup \n",
    "api = twitter.Api(\n",
    "    consumer_key=con_key\n",
    "    , consumer_secret=con_secret_key\n",
    "    , access_token_key = token\n",
    "    , access_token_secret = token_secret)\n",
    "\n",
    "# test creds\n",
    "print \"@{}\".format(api.VerifyCredentials().GetScreenName())\n",
    "\n"
   ]
  },
  {
   "cell_type": "code",
   "execution_count": 3,
   "metadata": {
    "collapsed": false
   },
   "outputs": [],
   "source": [
    "results = api.GetSearch(term = 'golden retriever', count = 100, include_entities=True)                \n",
    "counter = 1\n",
    "total_tweets = 5000\n",
    "tweets = []\n",
    "while counter <= total_tweets:\n",
    "    if counter == 1:\n",
    "        new_results = api.GetSearch(term = 'golden retriever'\n",
    "                                    , count = 100\n",
    "                                    , max_id = results[-1].GetId()\n",
    "                                    , include_entities=True)\n",
    "    else:\n",
    "        new_results = api.GetSearch(term = 'golden retriever'\n",
    "                                    , count = 100\n",
    "                                    , max_id = new_results[-1].GetId()\n",
    "                                    , include_entities=True)\n",
    "    counter += len(new_results)\n",
    "    tweets.extend(new_results)\n",
    "#for i,item in enumerate(tweets):\n",
    "#    print i,' ',item.GetText()\n"
   ]
  },
  {
   "cell_type": "code",
   "execution_count": 4,
   "metadata": {
    "collapsed": false
   },
   "outputs": [
    {
     "name": "stdout",
     "output_type": "stream",
     "text": [
      "5000\n"
     ]
    }
   ],
   "source": [
    "tweet_text = [tweet.GetText() for tweet in tweets]\n",
    "print len(tweet_text)\n",
    "pickle.dump(tweet_text,open('./data/tweet_text.pkl','wb'))"
   ]
  },
  {
   "cell_type": "markdown",
   "metadata": {},
   "source": [
    "### Train/Test set\n",
    "Split the training and test set."
   ]
  },
  {
   "cell_type": "code",
   "execution_count": 5,
   "metadata": {
    "collapsed": true
   },
   "outputs": [],
   "source": [
    "# Set up a training and test set.\n",
    "\n",
    "def create_index(total_tweets):\n",
    "        \"\"\"\n",
    "        Builds an index for the training and test set.\n",
    "        The sets serve as a list of row numbers to extract from the dataset. \n",
    "        \"\"\"\n",
    "        # based on the total tweet count, create an array of all line numbers \n",
    "        line_index = np.array(range(0,total_tweets))\n",
    "        # split the array into training and test sets of index values\n",
    "        trainIndex,testIndex = train_test_split(line_index,train_size=0.70, random_state=42)\n",
    "        # save test & traning index values\n",
    "        #np.save(\"training_index\",trainIndex)\n",
    "        #np.save(\"testing_index\",testIndex)\n",
    "        return trainIndex,testIndex\n",
    "\n",
    "# build indicies \n",
    "trainIndex,testIndex = create_index(len(tweet_text))\n",
    "pickle.dump(trainIndex,open('data/trainIndex.pkl','wb'))\n",
    "pickle.dump(testIndex,open('data/testIndex.pkl','wb'))\n",
    "\n",
    "# build test set\n",
    "test_tweets = [tweet_text[i] for i in testIndex]\n",
    "pickle.dump(test_tweets,open('data/test_tweets.pkl','wb'))\n"
   ]
  },
  {
   "cell_type": "markdown",
   "metadata": {},
   "source": [
    "### Vectorize the Tweets\n",
    "Three steps:  \n",
    "1.  Set up a vecterizer.\n",
    "2.  Vectorize the tweets to build the vocabulary."
   ]
  },
  {
   "cell_type": "code",
   "execution_count": 6,
   "metadata": {
    "collapsed": false
   },
   "outputs": [],
   "source": [
    "# Set up a vecterizer.\n",
    "# see http://scikit-learn.org/stable/modules/generated/sklearn.feature_extraction.text.TfidfVectorizer.html\n",
    "\n",
    "def vectorize_1():\n",
    "    vectorizer = TfidfVectorizer(#min_df=20\n",
    "                                 stop_words='english'\n",
    "                                 , use_idf=True # enable inverse-document-frequency reweighting\n",
    "                                 , ngram_range=(1,2) # given our vocab, not really necessary\n",
    "                                 , binary = True # presence of word instead of frequency\n",
    "                                 #, vocabulary = vocab\n",
    "                                ) \n",
    "    #X = vectorizer.fit_transform(tweet_list)\n",
    "    return vectorizer\n",
    "\n",
    "def vectorize_2(vocab):\n",
    "    vectorizer = CountVectorizer(stop_words='english'\n",
    "                                 , ngram_range=(1,2) # given our vocab, not really necessary\n",
    "                                 , binary = True # presence of word instead of frequency\n",
    "                                 , vocabulary = set(vocab)\n",
    "                                ) \n",
    "    #X = vectorizer.fit_transform(tweet_list)\n",
    "    return vectorizer\n"
   ]
  },
  {
   "cell_type": "code",
   "execution_count": 7,
   "metadata": {
    "collapsed": false
   },
   "outputs": [
    {
     "data": {
      "text/plain": [
       "(3500, 12573)"
      ]
     },
     "execution_count": 7,
     "metadata": {},
     "output_type": "execute_result"
    }
   ],
   "source": [
    "# Vectorize the tweets to build the vocabulary.\n",
    "vectorizer = vectorize_1()\n",
    "X = vectorizer.fit_transform([tweet_text[i] for i in trainIndex])\n",
    "X.get_shape()"
   ]
  },
  {
   "cell_type": "markdown",
   "metadata": {},
   "source": [
    "Progress: \n",
    "* Total tweets: 3,556. \n",
    "\n",
    "* Total tokens: 12,573. \n",
    "\n",
    "### Row Reduction\n",
    "\n",
    "To choose the appropriate number of svd components, we need to explore the amount of variance explained with each component. We'll reduce the number of components to 600. This number provides about 90% of the explained variance.  "
   ]
  },
  {
   "cell_type": "code",
   "execution_count": 8,
   "metadata": {
    "collapsed": true
   },
   "outputs": [],
   "source": [
    "#explained_variances = np.var(X_svd, axis=0) / np.var(X_train, axis=0).sum()\n",
    "\n",
    "### \n",
    "### This can take 10-15 mins\n",
    "###\n",
    "def create_svd_doc_term_matrix(X_train, num_eigen_vectors=100):\n",
    "    \"\"\"\n",
    "    Create the array with truncated svd.\n",
    "    \"\"\"\n",
    "    svd = TruncatedSVD(n_components = num_eigen_vectors)\n",
    "    pipeline = make_pipeline(svd, Normalizer(copy=False))\n",
    "    return pipeline.fit_transform(X_train), svd"
   ]
  },
  {
   "cell_type": "code",
   "execution_count": 9,
   "metadata": {
    "collapsed": false
   },
   "outputs": [
    {
     "data": {
      "text/html": [
       "<div>\n",
       "<table border=\"1\" class=\"dataframe\">\n",
       "  <thead>\n",
       "    <tr style=\"text-align: right;\">\n",
       "      <th></th>\n",
       "      <th>components</th>\n",
       "      <th>explained_var</th>\n",
       "    </tr>\n",
       "  </thead>\n",
       "  <tbody>\n",
       "    <tr>\n",
       "      <th>0</th>\n",
       "      <td>100</td>\n",
       "      <td>0.630385</td>\n",
       "    </tr>\n",
       "    <tr>\n",
       "      <th>1</th>\n",
       "      <td>150</td>\n",
       "      <td>0.674293</td>\n",
       "    </tr>\n",
       "    <tr>\n",
       "      <th>2</th>\n",
       "      <td>200</td>\n",
       "      <td>0.706968</td>\n",
       "    </tr>\n",
       "    <tr>\n",
       "      <th>3</th>\n",
       "      <td>250</td>\n",
       "      <td>0.733989</td>\n",
       "    </tr>\n",
       "    <tr>\n",
       "      <th>4</th>\n",
       "      <td>300</td>\n",
       "      <td>0.756015</td>\n",
       "    </tr>\n",
       "    <tr>\n",
       "      <th>5</th>\n",
       "      <td>350</td>\n",
       "      <td>0.774710</td>\n",
       "    </tr>\n",
       "    <tr>\n",
       "      <th>6</th>\n",
       "      <td>400</td>\n",
       "      <td>0.791451</td>\n",
       "    </tr>\n",
       "    <tr>\n",
       "      <th>7</th>\n",
       "      <td>450</td>\n",
       "      <td>0.807227</td>\n",
       "    </tr>\n",
       "    <tr>\n",
       "      <th>8</th>\n",
       "      <td>500</td>\n",
       "      <td>0.822224</td>\n",
       "    </tr>\n",
       "    <tr>\n",
       "      <th>9</th>\n",
       "      <td>550</td>\n",
       "      <td>0.836755</td>\n",
       "    </tr>\n",
       "    <tr>\n",
       "      <th>10</th>\n",
       "      <td>600</td>\n",
       "      <td>0.850917</td>\n",
       "    </tr>\n",
       "    <tr>\n",
       "      <th>11</th>\n",
       "      <td>650</td>\n",
       "      <td>0.864671</td>\n",
       "    </tr>\n",
       "    <tr>\n",
       "      <th>12</th>\n",
       "      <td>700</td>\n",
       "      <td>0.878101</td>\n",
       "    </tr>\n",
       "    <tr>\n",
       "      <th>13</th>\n",
       "      <td>750</td>\n",
       "      <td>0.891111</td>\n",
       "    </tr>\n",
       "  </tbody>\n",
       "</table>\n",
       "</div>"
      ],
      "text/plain": [
       "    components  explained_var\n",
       "0          100       0.630385\n",
       "1          150       0.674293\n",
       "2          200       0.706968\n",
       "3          250       0.733989\n",
       "4          300       0.756015\n",
       "5          350       0.774710\n",
       "6          400       0.791451\n",
       "7          450       0.807227\n",
       "8          500       0.822224\n",
       "9          550       0.836755\n",
       "10         600       0.850917\n",
       "11         650       0.864671\n",
       "12         700       0.878101\n",
       "13         750       0.891111"
      ]
     },
     "metadata": {},
     "output_type": "display_data"
    },
    {
     "data": {
      "text/plain": [
       "<matplotlib.axes._subplots.AxesSubplot at 0x128df56d0>"
      ]
     },
     "metadata": {},
     "output_type": "display_data"
    },
    {
     "data": {
      "image/png": "[encoded data removed]",
      "text/plain": [
       "<matplotlib.figure.Figure at 0x128a75110>"
      ]
     },
     "metadata": {},
     "output_type": "display_data"
    }
   ],
   "source": [
    "explained_variance_list = []\n",
    "svd_component_range = range(100,751,50)\n",
    "for i in svd_component_range:\n",
    "    # find explained variance in manual reduction method\n",
    "    X_svd, svd = create_svd_doc_term_matrix(X,i)\n",
    "    explained_variance_list.append(svd.explained_variance_ratio_.sum())\n",
    "\n",
    "expVar = pd.DataFrame({'explained_var':explained_variance_list\n",
    "                   , 'components':svd_component_range})\n",
    "display(expVar)\n",
    "#%Rpush  expVar\n",
    "display(expVar.plot(x='components',y='explained_var'))\n"
   ]
  },
  {
   "cell_type": "markdown",
   "metadata": {},
   "source": [
    "Progress:\n",
    "* Total tweets: 3,556. \n",
    "\n",
    "* Total <s>tokens</s> components: <s>10,363</s> 600.   \n",
    "\n",
    "### Create Cluster Centroids\n",
    "We'll now apply kmeans to find the centroids that will be used to predict a cluster for each tweet."
   ]
  },
  {
   "cell_type": "code",
   "execution_count": 10,
   "metadata": {
    "collapsed": true
   },
   "outputs": [],
   "source": [
    "def build_clusters(X_svd, k=5):\n",
    "    \"\"\"\n",
    "    Use kmeans to find centroids.\n",
    "    \"\"\"\n",
    "    km = KMeans(n_clusters=k\n",
    "                , init='k-means++'\n",
    "                , max_iter=100\n",
    "                #, n_init=10\n",
    "                , verbose=False)\n",
    "    km.fit(X_svd)\n",
    "    pred=km.predict(X_svd)\n",
    "    pred_df=pd.DataFrame(pred)\n",
    "    pred_df.columns=['pred_cluster']\n",
    "    return km.cluster_centers_ , pred_df, k\n"
   ]
  },
  {
   "cell_type": "code",
   "execution_count": 11,
   "metadata": {
    "collapsed": true
   },
   "outputs": [],
   "source": [
    "# Choose number of clusters\n",
    "my_k = 50"
   ]
  },
  {
   "cell_type": "code",
   "execution_count": 12,
   "metadata": {
    "collapsed": false
   },
   "outputs": [],
   "source": [
    "# Build centroids\n",
    "centroids, predictions, n_clusters = build_clusters(X_svd, my_k)\n",
    "pickle.dump(centroids, open('./data/centroids.pkl','wb'))\n",
    "pickle.dump(predictions, open('./data/predictions.pkl','wb')) "
   ]
  },
  {
   "cell_type": "markdown",
   "metadata": {},
   "source": [
    "### Explore Word Loadings\n",
    "Those tweets nearest the cluster centers are used as an approximation for their meanings."
   ]
  },
  {
   "cell_type": "code",
   "execution_count": 20,
   "metadata": {
    "collapsed": false
   },
   "outputs": [
    {
     "name": "stdout",
     "output_type": "stream",
     "text": [
      "Top words for cluster 0:\n",
      "[u'refuse', u'told got', u'white bitch', u'aiphabets', u'refuse nigga', u'break refuse', u'puppy break', u'rt aiphabets', u'aiphabets white', u'nigga', u'bitch told', u'nigga golden', u'break', u'got puppy', u'bitch', u'told', u'white', u'got', u'puppy', u'rt', u'golden retriever', u'retriever', u'golden', u'https rubb63bemk', u'ryhtjoligx', u'ryhtjoligx https', u'cute break', u'break guykawasaki', u'rubb63bemk', u'https ryhtjoligx', u'told today', u'today remind', u'remind', u'remind golden', u'guykawasaki golden', u'guykawasaki', u'll white', u'white golden', u'e33jrgcxmg', u'https e33jrgcxmg', u'today happy', u'got pet', u'brunobbsquirrel wanted', u'brunobbsquirrel', u'paws white', u'white black', u'black paws', u'cute white', u'jesssieeemcc want', u'jesssieeemcc']\n",
      "\n",
      "Top words for cluster 1:\n",
      "[u'bmx5b45jsw', u'animaiposts golden', u'http bmx5b45jsw', u'bath bomb', u'retriever bath', u'bomb', u'bomb http', u'bath', u'rt animaiposts', u'animaiposts', u'http', u'rt', u'golden retriever', u'retriever', u'golden', u'babyanimalgifs', u'rt babyanimalgifs', u'http asuzdzlgve', u'babyanimalgifs golden', u'asuzdzlgve', u'xsnsiaaktt', u'http xsnsiaaktt', u'babyanimalgifs sleepy', u'http lwt1jtdgjh', u'lwt1jtdgjh', u'funknowledge', u'funknowledge golden', u'rt funknowledge', u'zijytqmudw', u'http zijytqmudw', u'sassyanimalpics golden', u'ok', u'sleepy', u'sleepy golden', u'retriever http', u'ok want', u'dadimsss golden', u'dadimsss', u'iwj54gxghk', u'https iwj54gxghk', u'puppy banter', u'banter quantico', u'banter', u'like https', u'said', u'jacob_pillow want', u'rt jacob_pillow', u'jacob_pillow', u'puppy infestation', u'https wsmp9vhazh']\n",
      "\n",
      "Top words for cluster 2:\n",
      "[u'sab\\xedas los', u'que sab\\xedas', u'cosas que', u'cosas', u'sab\\xedas', u'los golden', u'los', u'que', u'eme_demujer', u'v\\xeda', u'eme_demujer https', u'v\\xeda eme_demujer', u'elnacionalweb', u'elnacionalweb cosas', u'retriever https', u'rt elnacionalweb', u'https uwmcrnn327', u'uwmcrnn327', u'https vid9wemos6', u'vid9wemos6 v\\xeda', u'vid9wemos6', u'https vid9we5dtw', u'vid9we5dtw', u'vid9we5dtw v\\xeda', u'https uovccrqu7s', u'uovccrqu7s', u'https', u'rt', u'golden retriever', u'retriever', u'golden', u'hayzc0btsv', u'https hayzc0btsv', u'https kvdxufnarg', u'pbeoe1irjt https', u'pbeoe1irjt', u'kvdxufnarg', u'https pbeoe1irjt', u'datoscuriososve', u'datoscuriososve cosas', u'rt datoscuriososve', u'wvwb5kuozf', u'v\\xeda elnacionalweb', u'v\\xeda https', u'https wvwb5kuozf', u'retriever v\\xeda', u'https xhkk1xz15w', u'pandaakpg3 v\\xeda', u'xhkk1xz15w', u'https pandaakpg3']\n",
      "\n",
      "Top words for cluster 3:\n",
      "[u'nap https', u'nxsrucu3np', u'https nxsrucu3np', u'alaskan husky', u'alaskan', u'taking nap', u'puppy taking', u'nap', u'bbanimals alaskan', u'taking', u'rt bbanimals', u'bbanimals', u'retriever puppy', u'puppy', u'husky golden', u'husky', u'https', u'rt', u'golden retriever', u'retriever', u'golden', u'metallicjohn86 rt', u'metallicjohn86', u'https mfq4rwo9ik', u'mfq4rwo9ik', u'http lfhl81uqik', u'rt ilovepupsdaily', u'ilovepupsdaily alaskan', u'nap http', u'ilovepupsdaily', u'lfhl81uqik', u'honestly', u'honestly better', u'rt exoticpiaces', u'https rkjthpmgus', u'rkjthpmgus', u'exoticpiaces golden', u'exoticpiaces', u'retriever day', u'petting golden', u'jk petting', u'jk', u'henrytaala jk', u'henrytaala', u'89y9rbl0wa', u'89y9rbl0wa youtube', u'bath https', u'https 89y9rbl0wa', u'arac\\u0131l\\u0131\\u011f\\u0131yla', u'bubble']\n",
      "\n",
      "Top words for cluster 4:\n",
      "[u'sahipsiz erkek', u'istanbul b\\xfcy\\xfck\\xe7ekmece', u'b\\xfcy\\xfck\\xe7ekmece sahipsiz', u'b\\xfcy\\xfck\\xe7ekmece', u'05322561986', u'ryvfoutrse https', u'ryvfoutrse', u'https ryvfoutrse', u'ileti\\u015fim 05322561986', u'05322561986 https', u'bulundu', u'sahipsiz', u'retriever bulundu', u'bulundu ileti\\u015fim', u'istanbul', u'kayipkopek istanbul', u'erkek golden', u'erkek', u'ileti\\u015fim', u'kayipkopek', u'rt kayipkopek', u'https', u'rt', u'golden retriever', u'retriever', u'golden', u'repost kayipkopek', u'repostapp istanbul', u'kayipkopek repostapp', u'repost', u'repostapp', u'tgsuz52pf5', u'https tgsuz52pf5', u'0wbjxmemb8', u'https 0wbjxmemb8', u'bulundu https', u'kay\\u0131p https', u'https bqlnw5kuzp', u'https g4wem7ydao', u'g4wem7ydao', u'bqlnw5kuzp', u'g4wem7ydao https', u'kartal', u'istanbul kartal', u'lady', u'retriever lady', u'lady kay\\u0131p', u'kartal di\\u015fi', u'kay\\u0131p', u'di\\u015fi golden']\n",
      "\n",
      "Top words for cluster 5:\n",
      "[u'episode fall', u'trolling', u'lake', u'lake fail', u'fall lake', u'fail', u'cooper episode', u'fail golden', u'trolling cooper', u'fall', u'episode', u'cooper', u'tmartn2', u'tmartn2 https', u'video tmartn2', u'liked', u'liked youtube', u'youtube', u'youtube video', u'video', u'https', u'golden retriever', u'retriever', u'golden', u'tmartn2 trolling', u'puppy https', u'https igm7aajbtl', u'igm7aajbtl', u'rt tmartn2', u'retriever puppy', u'puppy', u'youtube tmartn2', u'hxzbmh2ro8', u'hxzbmh2ro8 trolling', u'https hxzbmh2ro8', u'fkznaal2wm', u'fkznaal2wm trolling', u'https fkznaal2wm', u'vaidqrcdso', u'https vaidqrcdso', u'https rn0uhzqkzw', u'rn0uhzqkzw', u'rn0uhzqkzw youtube', u'mmzuwcezrc', u'mmzuwcezrc trolling', u'https mmzuwcezrc', u'6i6atrtlwf trolling', u'https 6i6atrtlwf', u'6i6atrtlwf', u'https sfjklwlns1']\n",
      "\n",
      "Top words for cluster 6:\n",
      "[u'http exxifa1ewg', u'exxifa1ewg', u'rt lolitadrugs', u'lolitadrugs husky', u'lolitadrugs', u'want http', u'mix want', u'retriever mix', u'mix', u'want', u'http', u'husky golden', u'husky', u'rt', u'golden retriever', u'retriever', u'golden', u'lhdtm0mq1v', u'http lhdtm0mq1v', u'babyanimalpics husky', u'rt babyanimalpics', u'qwnqipoy5c', u'http qwnqipoy5c', u'rt imlesliechow', u'imlesliechow husky', u'imlesliechow', u'ballerina http', u'ballerina', u'http yhbfdvdqa4', u'retriever ballerina', u'yhbfdvdqa4', u'babyanimalpics', u'want labrador', u'85uasaysur', u'glorioustumblr husky', u'rt glorioustumblr', u'glorioustumblr', u'http 85uasaysur', u'puppy life', u'thinks lap', u'lap dog', u'honestly better', u'half wiener', u'dog half', u'rt thetideaustin', u'thetideaustin', u'http opiwm4sups', u'thetideaustin half', u'opiwm4sups', u'rt tbhplzdont']\n",
      "\n",
      "Top words for cluster 7:\n",
      "[u'blonde brain', u'brain golden', u'blonde', u'brain', u'retriever everydayiloveyou2moredays', u'pushawardslizquens', u'pushawardslizquens blonde', u'everydayiloveyou2moredays', u'golden retriever', u'retriever', u'golden', u'candidodhess', u'rt candidodhess', u'candidodhess pushawardslizquens', u'rt rt', u'rt', u'rt junelpalma', u'junelpalma', u'junelpalma pushawardslizquens', u'rt audreytristan', u'audreytristan pushawardslizquens', u'audreytristan', u'lizquen12sg', u'rt lizquen12sg', u'lizquen12sg pushawardslizquens', u'retriever https', u'qkn9i8bevt', u'https qkn9i8bevt', u'lizquenexchange pushawardslizquens', u'lizquenexchange', u'rt lizquenexchange', u'flpksa', u'rt flpksa', u'flpksa pushawardslizquens', u'lizasoberawow', u'lizasoberawow pushawardslizquens', u'rt lizasoberawow', u'rt xagnes13', u'xagnes13 pushawardslizquens', u'xagnes13', u'rt leste_m26', u'leste_m26', u'leste_m26 pushawardslizquens', u'https', u'o4jgq4cpz1', u'https o4jgq4cpz1', u'wpxg0zdhuh', u'https wpxg0zdhuh', u'f6qhdybzay', u'https f6qhdybzay']\n",
      "\n",
      "Top words for cluster 8:\n",
      "[u'regrets', u'retriever regrets', u'regrets https', u'https jdk09nb0mt', u'jdk09nb0mt', u'babyanimaipicss golden', u'rt babyanimaipicss', u'babyanimaipicss', u'https', u'rt', u'golden retriever', u'retriever', u'golden', u'want http', u'5skbppaxym', u'childhoodrunier husky', u'rt childhoodrunier', u'https 5skbppaxym', u'childhoodrunier', u'giripossts', u'rt giripossts', u'giripossts husky', u'https xhww33c8pe', u'xhww33c8pe', u'femaiestruggle', u'hq7z2d7oju', u'femaiestruggle husky', u'rt femaiestruggle', u'https hq7z2d7oju', u'rt tweetllkeagirl', u'tweetllkeagirl husky', u'https gq2x4ilubj', u'tweetllkeagirl', u'gq2x4ilubj', u'f0g8ivkzqn', u'rt speakcomedy', u'speakcomedy husky', u'https f0g8ivkzqn', u'speakcomedy', u'want husky', u'like https', u'bvi1gfyc86', u'https bvi1gfyc86', u'voguemorge', u'voguemorge parks', u'wildanimalworid husky', u'wildanimalworid', u'rt wildanimalworid', u'think want', u'want corgi']\n",
      "\n",
      "Top words for cluster 9:\n",
      "[u'childhoodrunier husky', u'rt childhoodrunier', u'https 5skbppaxym', u'5skbppaxym', u'childhoodrunier', u'want https', u'mix want', u'retriever mix', u'mix', u'want', u'husky golden', u'husky', u'https', u'rt', u'golden retriever', u'retriever', u'golden', u'https cmlpikx9yd', u'cmlpikx9yd', u'regrets', u'jdk09nb0mt', u'regrets https', u'https jdk09nb0mt', u'retriever regrets', u'jaycub_ian', u'half poodle', u'jaycub_ian half', u'retriever half', u'http lhdtm0mq1v', u'lhdtm0mq1v', u'retriever want', u'poodle', u'jesssieeemcc want', u'jesssieeemcc', u'rt jesssieeemcc', u'babyanimalpics husky', u'xagnes13', u'xagnes13 pushawardslizquens', u'rt xagnes13', u'want labrador', u'spaniel golden', u'thecajunboy golden', u'rynprry http', u'rynprry', u'daymaker rynprry', u'thecajunboy', u'flpksa', u'flpksa pushawardslizquens', u'rt flpksa', u'named elvis']\n",
      "\n",
      "Top words for cluster 10:\n",
      "[u'ball https', u'pup playing', u'https uklnvlxjt9', u'uklnvlxjt9', u'playing tennis', u'tennis ball', u'tennis', u'playing', u'rt animalinpics', u'animalinpics', u'animalinpics golden', u'retriever pup', u'ball', u'pup', u'https', u'rt', u'golden retriever', u'retriever', u'golden', u'time http', u'http 62fzwjiak9', u'blllionaires golden', u'ball time', u'blllionaires', u'rt blllionaires', u'62fzwjiak9', u'retriever playing', u'aeg3elibv1', u'https aeg3elibv1', u'dives swimming', u'dives', u'ball dog', u'dog toy', u'pool tennis', u'rusty dives', u'toy https', u'retriever rusty', u'rusty', u'time', u'toy', u'famous golden', u'jt0r9kno2g', u'famous', u'https jt0r9kno2g', u'like christianleave', u'christianleave golden', u'https bvi1gfyc86', u'bvi1gfyc86', u'just wanna', u'wanna golden']\n",
      "\n",
      "Top words for cluster 11:\n",
      "[u'10 make', u'dog 10', u'getting dog', u'best pets', u'thinking getting', u'make best', u'pets https', u'thinking', u'pets', u'best', u'getting', u'10', u'make', u'dog', u'https', u'https c7es7zvslp', u'c7es7zvslp', u'fact thinking', u'fact', u'rt fact', u'w8hv1vuhuw', u'https w8hv1vuhuw', u'https m6tzyegzp4', u'https ruufrs0x3a', u'm6tzyegzp4', u'ruufrs0x3a', u'ruufrs0x3a https', u'rx1gmsupg3', u'https rx1gmsupg3', u'dyqfqrnckf', u'https dyqfqrnckf', u'ok6ktl6yyk', u'https ok6ktl6yyk', u'https 32llixlf1w', u'32llixlf1w', u'https nhmygfh1yt', u'nhmygfh1yt', u'https fmxm4vbnwh', u'fmxm4vbnwh', u'l7web5ubrn', u'https l7web5ubrn', u'rt', u'https vsm89odvnn', u'hb7v3c53na', u'vsm89odvnn', u'vsm89odvnn https', u'https hb7v3c53na', u'fmhgakqjt3 https', u'https dnnsmspcb8', u'fmhgakqjt3']\n",
      "\n",
      "Top words for cluster 12:\n",
      "[u'crossbread https', u'wiener golden', u'dog crossbread', u'crossbread', u'golden wiener', u'retriever wiener', u'wiener dog', u'wiener', u'meetanimals', u'meetanimals golden', u'https s8kabem7f2', u's8kabem7f2', u'rt meetanimals', u'dog', u'https', u'rt', u'golden retriever', u'retriever', u'golden', u'https vdjhcxefxb', u'vdjhcxefxb', u'awwwpuppies golden', u'awwwpuppies', u'rt awwwpuppies', u'https hbe55jnosp', u'hbe55jnosp', u'animaliife', u'animaliife golden', u'rt animaliife', u'https ght49vd6yt', u'ght49vd6yt', u'cutemergency golden', u'cutemergency', u'rt cutemergency', u'animal', u'planet', u'animal planet', u'retweeted animal', u'https zxmxvjygos', u'planet meetanimals', u'zxmxvjygos', u'retweeted', u'jnvqujikth https', u'jnvqujikth', u'planet dogs', u'schimpf sheila', u'schimpf', u'retriever animal', u'https jnvqujikth', u'dogs 101']\n",
      "\n",
      "Top words for cluster 13:\n",
      "[u'confused encounters', u'confused', u'puppy adorably', u'mirror', u'adorably', u'adorably confused', u'mirror https', u'encounters mirror', u'encounters', u'retriever puppy', u'puppy', u'https', u'golden retriever', u'retriever', u'golden', u'zrnev7nawk https', u'ui36owq6mc', u'zrnev7nawk', u'https ui36owq6mc', u'https zrnev7nawk', u'p9dh7lndxw https', u'p9dh7lndxw', u'https 083ejs74lf', u'https p9dh7lndxw', u'083ejs74lf', u'https mmv22qujrp', u'lsn6kegohf', u'https lsn6kegohf', u'mmv22qujrp https', u'mmv22qujrp', u'https qqsr75ppau', u'https g3nwuproid', u'qqsr75ppau', u'qqsr75ppau https', u'g3nwuproid', u'accn7pcqpc https', u'accn7pcqpc', u'l15fqrfgyg', u'https accn7pcqpc', u'https l15fqrfgyg', u'https 4ap972dadt', u'https zjvsk7jffl', u'zjvsk7jffl', u'4ap972dadt', u'4ap972dadt https', u'https exledbnk5q', u'exledbnk5q https', u'ggk46jr0lv', u'https ggk46jr0lv', u'exledbnk5q']\n",
      "\n",
      "Top words for cluster 14:\n",
      "[u'tshirt saturday', u'fast', u'tshirt', u'school plz', u'eggs husbands', u'eggs', u'morning walking', u'plz fast', u'plz', u'husbands', u'husbands tshirt', u'fast forward', u'forward', u'forward scrambling', u'scrambling eggs', u'saturday morning', u'scrambling', u'saturday', u'walking', u'morning', u'lalalauren_luv', u'lalalauren_luv school', u'rt lalalauren_luv', u'school', u'rt', u'lmonzz', u'lmonzz school', u'walking gold', u'rt lmonzz', u'gold', u'wzgr061vll', u'wzgr061vll ginger', u'readersgazette wasabi', u'readersgazette', u'https wzgr061vll', u'qfjbix5ssm', u'https qfjbix5ssm', u'ginger gold', u'gold https', u'owlengdis0', u'https owlengdis0', u'puppy amp', u'https xogfwzqj9s', u'picking golden', u'amp week', u'week https', u'xogfwzqj9s', u'xogfwzqj9s youtube', u'picking', u'retriever hey']\n",
      "\n",
      "Top words for cluster 15:\n",
      "[u'05063087884', u'gaziemir ayl\\u0131k', u'retriever asil', u'asil kay\\u0131p', u'gaziemir', u'izmir gaziemir', u'asil', u'kay\\u0131p 05063087884', u'y8ihyyo5un https', u'y8ihyyo5un', u'https y8ihyyo5un', u'05063087884 kayipkopek', u'izmir', u'kayipkopek izmir', u'ayl\\u0131k erkek', u'ayl\\u0131k', u'erkek golden', u'erkek', u'kayipkopek https', u'kay\\u0131p', u'kayipkopek', u'rt kayipkopek', u'https', u'rt', u'golden retriever', u'retriever', u'golden', u'y1k9hyurvq', u'https y1k9hyurvq', u'05063087884 https', u'cwxk0hcsv6 https', u'https cwxk0hcsv6', u'ileti\\u015fim 05063087884', u'cwxk0hcsv6', u'kay\\u0131p ileti\\u015fim', u'ileti\\u015fim', u'kayipkopek istanbul', u'retriever pa\\u015fa', u'pa\\u015fa', u'pa\\u015fa kay\\u0131p', u'https mghxq', u'mghxq', u'istanbul', u'kayipkopek u\\u015fak', u'05549450027 kayipkopek', u'psuexnosxz https', u'u\\u015fak', u'u\\u015fak u\\u015fak', u'psuexnosxz', u'u\\u015fak 11']\n",
      "\n",
      "Top words for cluster 16:\n",
      "[u'awwadorabie adorable', u'https xnn81nd4y4', u'xnn81nd4y4', u'awwadorabie', u'rt awwadorabie', u'adorable golden', u'puppy https', u'adorable', u'retriever puppy', u'puppy', u'https', u'rt', u'golden retriever', u'retriever', u'golden', u'goldensmexico adorable', u'http fewh4ipj3k', u'pup http', u'fewh4ipj3k', u'bvi1gfyc86', u'https bvi1gfyc86', u'dojk8woefk', u'fcxqkpsw2c', u'fcxqkpsw2c https', u'https fcxqkpsw2c', u'https dojk8woefk', u'vaidqrcdso', u'https vaidqrcdso', u'ballerina http', u'ballerina', u'yhbfdvdqa4', u'retriever ballerina', u'http yhbfdvdqa4', u'rn0uhzqkzw', u'rn0uhzqkzw youtube', u'https rn0uhzqkzw', u'awwadorabie golden', u'puppies music', u'music oceans', u'mccax7mhdu adorable', u'https mccax7mhdu', u'mccax7mhdu', u'familyfunpack', u'oceans', u'familyfunpack https', u'video familyfunpack', u'oceans love', u'f6qhdybzay', u'https f6qhdybzay', u'kinda']\n",
      "\n",
      "Top words for cluster 17:\n",
      "[u'05326387975', u'bah\\xe7e\\u015fehir', u'maya', u'https qguatf6fmw', u'qguatf6fmw', u'qguatf6fmw https', u'bah\\xe7e\\u015fehir ya\\u015f', u'istanbul bah\\xe7e\\u015fehir', u'ya\\u015f di\\u015fi', u'retriever maya', u'ileti\\u015fim 05326387975', u'maya kay\\u0131p', u'05326387975 https', u'ya\\u015f', u'istanbul', u'kayipkopek istanbul', u'di\\u015fi', u'di\\u015fi golden', u'kay\\u0131p ileti\\u015fim', u'ileti\\u015fim', u'kay\\u0131p', u'rt kayipkopek', u'kayipkopek', u'https', u'rt', u'golden retriever', u'retriever', u'golden', u'https mdav06teef', u'mdav06teef', u'cwxk0hcsv6 https', u'cwxk0hcsv6', u'https cwxk0hcsv6', u'ileti\\u015fim 05063087884', u'05063087884 https', u'kay\\u0131p https', u'https bqlnw5kuzp', u'g4wem7ydao https', u'g4wem7ydao', u'https g4wem7ydao', u'bqlnw5kuzp', u'kayipkopek repostapp', u'repost kayipkopek', u'repost', u'repostapp', u'repostapp istanbul', u'mghxq7nnoi', u'https mghxq7nnoi', u'bvi1gfyc86', u'https bvi1gfyc86']\n",
      "\n",
      "Top words for cluster 18:\n",
      "[u'need golden', u'need', u'rt christianleave', u'alexander', u'christianleave need', u'named alexander', u'christianleave', u'retriever named', u'named', u'life', u'retriever life', u'golden', u'golden retriever', u'retriever', u'rt', u'puppy life', u'retriever puppy', u'puppy', u'filled', u'pay', u'need good', u'hard school', u'school rn', u'filled golden', u'job pay', u'try hard', u'future farm', u'pay future', u'incentive', u'bc need', u'farm', u'rn bc', u'incentive try', u'farm filled', u'hard', u'try', u'good job', u'rn', u'job', u'future', u'brittleighh2', u'brittleighh2 need', u'bc', u'good', u'life feel', u'rt sak_inthebox', u'sak_inthebox', u'sak_inthebox incentive', u'golden ret', u'ret']\n",
      "\n",
      "Top words for cluster 19:\n",
      "[u'05534855272', u'05534855272 kayipkopek', u'bat\\u0131kent', u'ileti\\u015fim 05534855272', u'ankara bat\\u0131kent', u'https j5a1dsx2sg', u'j5a1dsx2sg https', u'j5a1dsx2sg', u'bat\\u0131kent erkek', u'kayipkopek ankara', u'ankara', u'retriever pa\\u015fa', u'pa\\u015fa kay\\u0131p', u'pa\\u015fa', u'erkek golden', u'kay\\u0131p ileti\\u015fim', u'erkek', u'kayipkopek https', u'ileti\\u015fim', u'kay\\u0131p', u'rt kayipkopek', u'kayipkopek', u'https', u'rt', u'golden retriever', u'retriever', u'golden', u'cwxk0hcsv6', u'ileti\\u015fim 05063087884', u'cwxk0hcsv6 https', u'https cwxk0hcsv6', u'05063087884 https', u'retriever labrador', u'0wbjxmemb8', u'bulundu https', u'https 0wbjxmemb8', u'https 3nvdjuohnk', u'3nvdjuohnk', u'kayipkopek kocaeli', u'kayipkopek mu\\u011fla', u'valentine day', u'cooper valentine', u'vk1vkhbebp cooper', u'vk1vkhbebp', u'day golden', u'https vk1vkhbebp', u'valentine', u'pug', u'labrador', u'looked bunch']\n",
      "\n",
      "Top words for cluster 20:\n",
      "[u'05051300249 https', u'mia', u'fmty0a3lew https', u'dar\\u0131ca ayl\\u0131k', u'kocaeli', u'https fmty0a3lew', u'kocaeli dar\\u0131ca', u'tugbasay 05316160794', u'tugbasay', u'fmty0a3lew', u'dar\\u0131ca', u'mia kay\\u0131p', u'ayl\\u0131k di\\u015fi', u'retriever mia', u'kay\\u0131p tugbasay', u'05316160794 05051300249', u'05316160794', u'05051300249', u'kayipkopek kocaeli', u'ayl\\u0131k', u'di\\u015fi golden', u'di\\u015fi', u'kay\\u0131p', u'rt kayipkopek', u'kayipkopek', u'https', u'rt', u'golden retriever', u'retriever', u'golden', u'https 65via3id3s', u'65via3id3s', u'kay\\u0131p https', u'https bqlnw5kuzp', u'https g4wem7ydao', u'bqlnw5kuzp', u'g4wem7ydao https', u'g4wem7ydao', u'https cwxk0hcsv6', u'cwxk0hcsv6', u'cwxk0hcsv6 https', u'ileti\\u015fim 05063087884', u'05063087884 https', u'kayipkopek istanbul', u'kayipkopek ankara', u'kayipkopek mu\\u011fla', u'kayipkopek u\\u015fak', u'like https', u'bvi1gfyc86', u'https bvi1gfyc86']\n",
      "\n",
      "Top words for cluster 21:\n",
      "[u'shepherd', u'german shepherd', u'german', u'retriever german', u'want life', u'life golden', u'll happy', u'shepherd ll', u'life', u'peyt0nn want', u'rt peyt0nn', u'peyt0nn', u'll', u'happy', u'australian shepherd', u'shepherd http', u'dailypups golden', u'dailypups', u'retriever australian', u'qukhsfl2xx', u'rt dailypups', u'http qukhsfl2xx', u'australian', u'want', u'golden retriever', u'retriever', u'golden', u'rt', u'http', u'beagle golden', u'pls golden', u'beagle', u'end', u'rest', u'amp golden', u'end adopting', u'probably end', u'adopting beagle', u'probably', u'5xkypm38ct', u'gabbielentz german', u'shepherd amp', u'https 5xkypm38ct', u'gabbielentz', u'pls', u'adopting', u'wolfhound rest', u'irish wolfhound', u'rest dogs', u'irish']\n",
      "\n",
      "Top words for cluster 22:\n",
      "[u'babyanimaipicss husky', u'https yidvlrinti', u'yidvlrinti', u'want https', u'babyanimaipicss', u'rt babyanimaipicss', u'mix want', u'retriever mix', u'mix', u'want', u'husky golden', u'husky', u'https', u'rt', u'golden retriever', u'retriever', u'golden', u'babyanimaipicss golden', u'https cmlpikx9yd', u'cmlpikx9yd', u'retriever want', u'jaycub_ian half', u'jaycub_ian', u'half poodle', u'retriever half', u'http lhdtm0mq1v', u'lhdtm0mq1v', u'poodle', u'babyanimalpics husky', u'spaniel golden', u'want labrador', u'want golden', u'blifeinthemakin golden', u'blifeinthemakin', u'retriever hey', u'want http', u'http pbiapq6pfr', u'rt tbhplzdont', u'tbhplzdont husky', u'tbhplzdont', u'pbiapq6pfr', u'pyraniese', u'pyraniese mix', u'mix needs', u'great pyraniese', u'named elvis', u'elvis', u'elvis want', u'free', u'retriever emoji']\n",
      "\n",
      "Top words for cluster 23:\n",
      "[u'videos make', u'https c5fncwdd5e', u'c5fncwdd5e https', u'amp videos', u'make vegan', u'vegan', u'vegan https', u'c5fncwdd5e', u'serves', u'host serves', u'host', u'serves golden', u'happens', u'happens host', u'peta happens', u'rt peta', u'videos', u'peta', u'retriever amp', u'amp', u'make', u'https', u'rt', u'golden retriever', u'retriever', u'golden', u'ohxzldvmyb', u'https ohxzldvmyb', u'retriever videos', u'vp7sz6jtmy', u'https vp7sz6jtmy', u'videos https', u'10 funny', u'll love', u'love forever', u'buy puppy', u'forever', u'amp ll', u'retriever morning', u'breakdown', u'morning really', u'really make', u'make breakdown', u'bed weeks', u'dog bed', u'kittens dog', u'amp tiny', u'funny golden', u'kanines', u'kanines angry']\n",
      "\n",
      "Top words for cluster 24:\n",
      "[u'scottex', u'culo', u'anuncio', u'anuncio scottex', u'cachorrito', u'alien\\xedgena llega', u've el', u'llega la', u'retriever en', u'se limpia', u'llega', u'la tierra', u'scottex se', u'tierra ve', u'tierra', u'limpia', u'limpia el', u'culo cachorrito', u'alien\\xedgena', u'el culo', u'cachorrito golden', u'el anuncio', u'en vez', u'vez', u'en', u'hijadehelghan alien\\xedgena', u'hijadehelghan', u'rt hijadehelghan', u'el', u'se', u'la', u've', u'rt', u'golden retriever', u'retriever', u'golden', u'vez el', u'el papel', u'papel', u'venice golden', u'venice', u'https h3lyzf2kfh', u'h3lyzf2kfh', u'marley_ok calubonfante', u'en cabina', u'negra viaja', u'en avion', u'que regalo', u'avion', u'regalo']\n",
      "\n",
      "Top words for cluster 25:\n",
      "[u'check', u'favorite', u'ebay', u'5iwvzrtppp', u'attack', u'check favorite', u'puppies attack', u'favorite videos', u'cuteness', u'https 5iwvzrtppp', u'attack cuteness', u'videos golden', u'cuteness https', u'5iwvzrtppp https', u'check women', u'women', u'shirt', u'shirt golden', u'size', u'men', u'women men', u'graphictee', u'graphictee https', u'rt dogtimedotcom', u'dogtimedotcom', u'dogtimedotcom check', u'stonewashed', u'videos', u'new', u'https', u'puppies', u'retriever puppies', u'golden', u'golden retriever', u'retriever', u'dog', u'werewolves', u'instruments', u'favorite line', u'immortal instruments', u'immortal', u'line', u'werewolves golden', u'line immortal', u'retriever favorite', u'restaurant', u'retriever just', u'61jhiwj2hc', u'61jhiwj2hc ebay', u'puppy stonewashed']\n",
      "\n",
      "Top words for cluster 26:\n",
      "[u'05415545714 kayipkopek', u'2g2sowxmu1', u'2g2sowxmu1 https', u'ileti\\u015fim 05415545714', u'ortaca di\\u015fi', u'retriever tar\\xe7\\u0131n', u'ortaca', u'mu\\u011fla ortaca', u'https 2g2sowxmu1', u'tar\\xe7\\u0131n kay\\u0131p', u'05415545714', u'tar\\xe7\\u0131n', u'mu\\u011fla', u'kayipkopek mu\\u011fla', u'di\\u015fi', u'di\\u015fi golden', u'kay\\u0131p ileti\\u015fim', u'kayipkopek https', u'ileti\\u015fim', u'kay\\u0131p', u'kayipkopek', u'rt kayipkopek', u'https', u'rt', u'golden retriever', u'retriever', u'golden', u'https p1hibk9wzd', u'p1hibk9wzd', u'cwxk0hcsv6', u'https cwxk0hcsv6', u'ileti\\u015fim 05063087884', u'cwxk0hcsv6 https', u'05063087884 https', u'https mghxq7nnoi', u'mghxq7nnoi', u'ad\\u0131n\\u0131', u'beslemek', u'beslemek istiyorum', u'al\\u0131p', u'kadar beslemek', u'yavru bi', u'\\xf6lene kadar', u'retriever al\\u0131p', u'\\xf6lene', u'istiyorum', u'tar\\xe7\\u0131n koyup', u'al\\u0131p ad\\u0131n\\u0131', u'koyup', u'koyup \\xf6lene']\n",
      "\n",
      "Top words for cluster 27:\n",
      "[u'watercolour', u'portrait', u'retriever handmade', u'handmade watercolour', u'watercolour art', u'portrait golden', u'pet portrait', u'handmade', u'mormorjan', u'mormorjan pet', u'art', u'pet', u'210993329', u'etsy com', u'art cardshttps', u'listing 210993329', u'listing', u'uk listing', u'www', u'esart etsymntt', u'com uk', u'esart', u'www etsy', u'cardshttps', u'cardshttps www', u'210993329 esart', u'com', u'etsymntt', u'etsy', u'rt mormorjan', u'uk', u'janet purves', u'janet', u'purves mormorjan', u'purves', u'retweeted janet', u'https cizkvkt43f', u'art https', u'cizkvkt43f', u'retweeted', u'rt psblakely', u'psblakely retweeted', u'psblakely', u'rt', u'golden retriever', u'retriever', u'golden', u'https', u'https zxmxvjygos', u'retweeted animal']\n",
      "\n",
      "Top words for cluster 28:\n",
      "[u'oct', u'15', u'15 https', u'usa', u'retriever oct', u'dogs', u'usa golden', u'helpinglostpets', u'rt helpinglostpets', u'helpinglostpets dogs', u'26 15', u'oct 26', u'26', u'dogs lost', u'oct 25', u'25 15', u'25', u'lost', u'oh', u'https', u'dogs reunited', u'reunited', u'il usa', u'lostdogsil', u'il', u'elle', u'sur', u'https pnxh7nbbtp', u'chi\\xe9 sur', u'chi\\xe9', u'le tapis', u'vache elle', u'elle fait', u'super bien', u'fait', u'oh la', u'fait super', u'salon https', u'salon', u'qui chi\\xe9', u'tapis du', u'du salon', u'bien le', u'tapis', u'vache', u'la vache', u'pnxh7nbbtp', u'sur le', u'dogs loganville', u'ga usa']\n",
      "\n",
      "Top words for cluster 29:\n",
      "[u'want golden', u'want', u'retriever puppy', u'puppy', u'bad', u'golden retriever', u'retriever', u'golden', u'just', u'really want', u'getting golden', u'puppy bad', u'really', u'getting', u'retriever bad', u'puppy saying', u'saying hello', u'saying', u'hello', u'little golden', u'rt jessdoforno', u'puppy just', u'jessdoforno', u'jessdoforno feel', u'just solve', u'like getting', u'solve', u'solve problems', u'feel like', u'problems', u'feel', u'little', u'hello mother', u'mother https', u'mother', u'like', u'buy golden', u'puppy figure', u'kora', u'watch kora', u'tail https', u'figure tail', u'figure', u'kora golden', u'tail', u'buy', u'watch', u'just buy', u'rt', u'https']\n",
      "\n",
      "Top words for cluster 30:\n",
      "[u'rt extrasexual', u'http rtbbxvkxzb', u'extrasexual', u'extrasexual husky', u'rtbbxvkxzb', u'want http', u'mix want', u'retriever mix', u'mix', u'want', u'http', u'husky golden', u'husky', u'rt', u'golden retriever', u'retriever', u'golden', u'lhdtm0mq1v', u'http lhdtm0mq1v', u'babyanimalpics husky', u'rt babyanimalpics', u'qwnqipoy5c', u'http qwnqipoy5c', u'imlesliechow', u'imlesliechow husky', u'rt imlesliechow', u'ballerina http', u'retriever ballerina', u'yhbfdvdqa4', u'ballerina', u'http yhbfdvdqa4', u'babyanimalpics', u'want labrador', u'85uasaysur', u'glorioustumblr', u'glorioustumblr husky', u'http 85uasaysur', u'rt glorioustumblr', u'puppy life', u'thinks lap', u'lap dog', u'honestly better', u'half wiener', u'dog half', u'http opiwm4sups', u'thetideaustin', u'thetideaustin half', u'rt thetideaustin', u'opiwm4sups', u'pbiapq6pfr']\n",
      "\n",
      "Top words for cluster 31:\n",
      "[u'05549450027 kayipkopek', u'11 ayl\\u0131k', u'https psuexnosxz', u'ileti\\u015fim 05549450027', u'psuexnosxz https', u'u\\u015fak u\\u015fak', u'u\\u015fak 11', u'psuexnosxz', u'u\\u015fak', u'05549450027', u'11', u'kayipkopek u\\u015fak', u'pa\\u015fa', u'pa\\u015fa kay\\u0131p', u'retriever pa\\u015fa', u'ayl\\u0131k erkek', u'ayl\\u0131k', u'erkek golden', u'kay\\u0131p ileti\\u015fim', u'erkek', u'kayipkopek https', u'ileti\\u015fim', u'kay\\u0131p', u'kayipkopek', u'rt kayipkopek', u'https', u'rt', u'golden retriever', u'retriever', u'golden', u'3nvdjuohnk', u'https 3nvdjuohnk', u'cwxk0hcsv6', u'ileti\\u015fim 05063087884', u'cwxk0hcsv6 https', u'https cwxk0hcsv6', u'05063087884 https', u'getting pug', u'puppy tilly', u'tilly', u'11 getting', u'11 11', u'bath cooper', u'cooper 11', u'puppy bath', u'https 9cpm4esn1y', u'9cpm4esn1y', u'9cpm4esn1y golden', u'11 weeks', u'0wbjxmemb8']\n",
      "\n",
      "Top words for cluster 32:\n",
      "[u'sounds like', u'sounds', u'head sounds', u'inside golden', u'inside', u'parks', u'theme', u'retriever head', u'song inside', u'head', u'theme song', u'song', u'parks recreation', u'recreation', u'recreation theme', u'like', u'like https', u'voguemorge parks', u'voguemorge', u'rt kerrycun', u'kerrycun', u'kerrycun parks', u'rec', u'rec theme', u'parks rec', u'rt oinkimmapig', u'oinkimmapig parks', u'oinkimmapig', u'retriever', u'golden retriever', u'golden', u'the_rug parks', u'the_rug', u'rt the_rug', u'like times', u'times', u'rt', u'ykzv2tqtjf', u'https ykzv2tqtjf', u'7dtm5t2ie3', u'https 7dtm5t2ie3', u'https sy93z1fhdl', u'sy93z1fhdl', u'yhfx7yezo5', u'https yhfx7yezo5', u'rt grumpyleyla', u'grumpyleyla', u'grumpyleyla parks', u'glietzsche', u'glietzsche parks']\n",
      "\n",
      "Top words for cluster 33:\n",
      "[u'27 36', u'peso', u'uk peso', u'vivaz \\xe1gil', u'origen', u'origen uk', u'peso 27', u'retriever origen', u'vivaz', u'devoto compa\\xf1ero', u'compa\\xf1ero', u'devoto', u'36', u'tama\\xf1o grande', u'\\xe1gil devoto', u'\\xe1gil', u'inteligente', u'inteligente vivaz', u'irazasdeperros raza', u'irazasdeperros', u'raza golden', u'27', u'grande car\\xe1cter', u'36 kg', u'car\\xe1cter inteligente', u'car\\xe1cter', u'kg tama\\xf1o', u'rt irazasdeperros', u'raza', u'tama\\xf1o', u'kg', u'grande', u'uk', u'rt', u'golden retriever', u'retriever', u'golden', u'36 tama\\xf1o', u'compa\\xf1ero gusta_rc', u'gusta_rc', u'grande car\\xe1c', u'car\\xe1c inteligente', u'car\\xe1c', u'meses', u'meses es', u'beb\\xe9 hermoso', u'https j6nyafofof', u'naci\\xf3 https', u'j6nyafofof', u'este beb\\xe9']\n",
      "\n",
      "Top words for cluster 34:\n",
      "[u'sleepy', u'sleepy golden', u'retriever http', u'crwixnlate', u'animaiposts sleepy', u'http crwixnlate', u'http', u'rt animaiposts', u'animaiposts', u'rt', u'http 5mwoornb9h', u'sassyanimalpics sleepy', u'5mwoornb9h', u'rt sassyanimalpics', u'sassyanimalpics', u'golden retriever', u'retriever', u'golden', u'babyanimalgifs', u'rt babyanimalgifs', u'http xsnsiaaktt', u'babyanimalgifs sleepy', u'xsnsiaaktt', u'babyanlmals sleepy', u'p0grhocbmy', u'http p0grhocbmy', u'rt babyanlmals', u'babyanlmals', u'cards', u'pajamas birthday', u'https cfbq8zlkzt', u'cute cards', u'birthday card', u'cfbq8zlkzt dog', u'cfbq8zlkzt', u'retriever pajamas', u'babyanimalgifs golden', u'http asuzdzlgve', u'asuzdzlgve', u'pajamas', u'dog cute', u'cpzt4pfnot', u'http cpzt4pfnot', u'card', u'card https', u'life good', u'http okc1om5tn6', u'okc1om5tn6', u'goldensmexico life', u'christianleave golden']\n",
      "\n",
      "Top words for cluster 35:\n",
      "[u'puppies', u'retriever puppies', u'puppies https', u'golden retriever', u'retriever', u'golden', u'wish', u'wish golden', u'class', u'retriever upper', u'class family', u'upper', u'rt', u'calum5sos', u'family', u'upper class', u'calum5sos golden', u'rt kpopsmells', u'kpopsmells yugyeom', u'kpopsmells', u'yugyeom smells', u'smells like', u'puppies happiness', u'smells', u'yugyeom', u'happiness', u'episode quantico', u'puppies episode', u'https', u'cheese', u'cheese golden', u'thinking cheese', u'quantico', u'like golden', u'cute', u'looking golden', u'want', u'room golden', u'https ayq6idkaee', u'farida_eldewery golden', u'ffs', u'puppies ffs', u'rt farida_eldewery', u'ayq6idkaee', u'farida_eldewery', u'ffs https', u'looking', u'room', u'thinking', u'weakness']\n",
      "\n",
      "Top words for cluster 36:\n",
      "[u'retriever care', u'care', u'care training', u'training', u'complete', u'complete golden', u'guide 50', u'care guide', u'50', u'affiliate', u'50 affiliate', u'downloadable ebook', u'ebook', u'training downloadable', u'downloadable', u'guide', u'https', u'dog book', u'training golden', u'affiliate commission', u'commission', u'book', u'training https', u'newjersey earrings', u'earrings', u'newjersey', u'gardens newjersey', u'horses golden', u'earrings horses', u'gardens', u'horses', u'choosing', u'book choosing', u'caring', u'caring training', u'choosing caring', u'retriever dog', u'golden https', u'golden retriever', u'golden', u'retriever', u'ebook audiobook', u'audiobook', u'audiobook https', u'commission complete', u'guide easy', u'easy', u'dog', u'easy https', u'downlo']\n",
      "\n",
      "Top words for cluster 37:\n",
      "[u'kayipkopek istanbul', u'istanbul', u'kay\\u0131p ileti\\u015fim', u'kayipkopek https', u'ileti\\u015fim', u'kay\\u0131p', u'05384257788 kayipkopek', u'https k0jlpzg8tc', u'ileti\\u015fim 05384257788', u'k0jlpzg8tc', u'k0jlpzg8tc https', u'05384257788', u'kartal di\\u015fi', u'kartal', u'retriever lady', u'lady kay\\u0131p', u'lady', u'istanbul kartal', u'rt kayipkopek', u'kayipkopek', u'di\\u015fi golden', u'di\\u015fi', u'05465008662', u's\\xfct', u'istanbul sultanbeyli', u'sultanbeyli erkek', u's\\xfct kay\\u0131p', u'ileti\\u015fim 05465008662', u'retriever s\\xfct', u'wbviutt5uu', u'https wbviutt5uu', u'sultanbeyli', u'wbviutt5uu https', u'05465008662 kayipkopek', u'https', u'erkek golden', u'erkek', u'rt', u'golden retriever', u'retriever', u'golden', u'g4wem7ydao', u'g4wem7ydao https', u'https bqlnw5kuzp', u'bqlnw5kuzp', u'https g4wem7ydao', u'kay\\u0131p https', u'05322561986 https', u'ryvfoutrse', u'ryvfoutrse https']\n",
      "\n",
      "Top words for cluster 38:\n",
      "[u'retriever', u'golden retriever', u'golden', u'https', u'rt', u'mix', u'husky', u'retriever mix', u'dog', u'want', u'http', u'husky golden', u'retriever https', u'like', u'retriever husky', u'mix want', u'husky mix', u'mix https', u'puppy', u'retriever puppy', u'cute', u'want http', u'dogs', u'just', u'video', u'time', u'life', u'want https', u'new', u'pup', u'old', u'love', u'retriever pup', u'like golden', u'dqxqqjavxx', u'https dqxqqjavxx', u'amp', u'kitten', u'shows', u'growing', u'freddyamazin', u'adorable', u'look', u'rt earthepix', u'earthepix', u'earthepix golden', u'kitten growing', u'video shows', u'lapse video', u'lapse']\n",
      "\n",
      "Top words for cluster 39:\n",
      "[u'ball rolled', u'tries play', u'rolled', u'rolled hilariously', u'hilariously', u'hilariously tries', u'cool https', u'play cool', u'retriever misses', u'tries', u'misses ball', u'misses', u'cool', u'play', u'ball', u'https', u'golden retriever', u'retriever', u'golden', u'pcjsxu51x1 https', u'https lqs2dohdcz', u'pcjsxu51x1', u'https pcjsxu51x1', u'lqs2dohdcz', u'2jpmpngrrm', u'https 2jpmpngrrm', u'vroljbs2bu', u'https vroljbs2bu', u'2jpmpngrrm https', u'https ouyl5vxsz1', u'ouyl5vxsz1 https', u'kqafvg2ifo', u'https kqafvg2ifo', u'ouyl5vxsz1', u'cmyhmewcyn', u'https cmyhmewcyn', u'uvuaae0gma', u'uvuaae0gma https', u'https uvuaae0gma', u'https taqdsmocpt', u'taqdsmocpt', u'vcddzrjoxs https', u'https vcddzrjoxs', u'vcddzrjoxs', u'https nuvvjsirdc', u'https cge1lyugv6', u'cge1lyugv6', u'cge1lyugv6 https', u'nuvvjsirdc', u'bnotcitf9e']\n",
      "\n",
      "Top words for cluster 40:\n",
      "[u'tol1eljqnm https', u'tol1eljqnm', u'sahipsiz ya\\u015f', u'ileti\\u015fim 05333475330', u'https tol1eljqnm', u'ankara \\xe7ankaya', u'\\xe7ankaya sahipsiz', u'\\xe7ankaya', u'ya\\u015f erkek', u'05333475330', u'05333475330 https', u'ankara', u'kayipkopek ankara', u'bulundu ileti\\u015fim', u'sahipsiz', u'retriever bulundu', u'bulundu', u'ya\\u015f', u'erkek golden', u'erkek', u'ileti\\u015fim', u'rt kayipkopek', u'kayipkopek', u'https', u'rt', u'golden retriever', u'retriever', u'golden', u'uz8nhfseee', u'https uz8nhfseee', u'0wbjxmemb8', u'bulundu https', u'https 0wbjxmemb8', u'cwxk0hcsv6', u'https cwxk0hcsv6', u'cwxk0hcsv6 https', u'ileti\\u015fim 05063087884', u'05063087884 https', u'repostapp istanbul', u'repostapp', u'repost', u'repost kayipkopek', u'kayipkopek repostapp', u'kayipkopek mu\\u011fla', u'b\\xfcy\\xfck\\xe7ekmece', u'b\\xfcy\\xfck\\xe7ekmece sahipsiz', u'sahipsiz erkek', u'istanbul b\\xfcy\\xfck\\xe7ekmece', u'kayipkopek kocaeli', u'kayipkopek izmir']\n",
      "\n",
      "Top words for cluster 41:\n",
      "[u'retriever cookie', u'cutter', u'cutter https', u'cookie cutter', u'cookie', u'new golden', u'new', u'gamerg', u'detective', u'reporter', u'aw hi', u'autobite sees', u'buddy detective', u'detective lil', u'hat aw', u'retriever trenchcoat', u'hi buddy', u'reporter heard', u'autobite', u'heard gamerg', u'trenchcoat lil', u'trenchcoat', u'lil hat', u'rt autobite', u'lil reporter', u'aw', u'buddy', u'heard', u'sees', u'sees golden', u'hi', u'hat', u'lil', u'golden retriever', u'retriever', u'golden', u'https', u'rt', u'ed20u300h2', u'https upyiqimlwn', u'https ed20u300h2', u'upyiqimlwn', u'ed20u300h2 https', u'https o5jukbubpe', u'o5jukbubpe https', u'bjxk0ffaqp', u'o5jukbubpe', u'https bjxk0ffaqp', u'opupbbdhrk', u'https opupbbdhrk']\n",
      "\n",
      "Top words for cluster 42:\n",
      "[u'hold tba', u'puppy alert', u'tan golden', u'mix stray', u'tba', u'tba email', u'a206936 tan', u'adoption rescue', u'a206936', u'alert a206936', u'stray hold', u'hold', u'email adoption', u'stray', u'rescue https', u'alert', u'adoption', u'email', u'tan', u'shelteranimals1', u'shelteranimals1 puppy', u'rt shelteranimals1', u'rescue', u'retriever mix', u'mix', u'puppy', u'https', u'rt', u'golden retriever', u'retriever', u'golden', u'jfxiuo1bjf', u'https jfxiuo1bjf', u'863fqqhbre', u'https 863fqqhbre', u'rescue alert', u'alert https', u'retriever rescue', u'stray golden', u'say ve', u'dinner', u've named', u'named air', u'sleeping porch', u'dinner stray', u'home dinner', u'porch safe', u'porch', u'retriever sleeping', u'want husky']\n",
      "\n",
      "Top words for cluster 43:\n",
      "[u'https tgdxxuyxel', u'hilalozbag https', u've susam', u'susam', u'susam kay\\u0131p', u've ya\\u015f\\u0131nda', u'hilalozbag', u'bodrum', u'kay\\u0131p 05378512779', u'\\xe7ak\\u0131l', u'\\xe7ak\\u0131l ve', u'mu\\u011fla bodrum', u'tgdxxuyxel', u'tgdxxuyxel https', u'golden \\xe7ak\\u0131l', u'bodrum ve', u'05378512779 hilalozbag', u'05378512779', u'ya\\u015f\\u0131nda di\\u015fi', u'ya\\u015f\\u0131nda', u'mu\\u011fla', u've', u'kayipkopek mu\\u011fla', u'di\\u015fi', u'di\\u015fi golden', u'kay\\u0131p', u'rt kayipkopek', u'kayipkopek', u'https', u'rt', u'golden', u'https 83ei678cbh', u'83ei678cbh', u'kay\\u0131p https', u'https bqlnw5kuzp', u'g4wem7ydao', u'g4wem7ydao https', u'bqlnw5kuzp', u'https g4wem7ydao', u'jodiewashere cute', u'cute ve', u'got eyes', u'eyes set', u've got', u'set husky', u'kayipkopek istanbul', u'puppy life', u've cutest', u'holding leash', u'amp walking']\n",
      "\n",
      "Top words for cluster 44:\n",
      "[u'arap', u'retriever arap', u'https 9tsy7uezpb', u'ileti\\u015fim 02327662792', u'izmir urla', u'9tsy7uezpb', u'urla', u'urla di\\u015fi', u'arap kay\\u0131p', u'9tsy7uezpb https', u'02327662792 kayipkopek', u'02327662792', u'mghxq', u'https mghxq', u'izmir', u'kayipkopek izmir', u'di\\u015fi', u'di\\u015fi golden', u'kay\\u0131p ileti\\u015fim', u'kayipkopek https', u'ileti\\u015fim', u'kay\\u0131p', u'kayipkopek', u'rt kayipkopek', u'https', u'rt', u'golden retriever', u'retriever', u'golden', u'https mghxq7nnoi', u'mghxq7nnoi', u'https cwxk0hcsv6', u'cwxk0hcsv6 https', u'ileti\\u015fim 05063087884', u'cwxk0hcsv6', u'05063087884 https', u'kay\\u0131p https', u'bqlnw5kuzp', u'https g4wem7ydao', u'g4wem7ydao', u'g4wem7ydao https', u'https bqlnw5kuzp', u'kayipkopek repostapp', u'repostapp', u'repost kayipkopek', u'repostapp istanbul', u'repost', u'lady', u'istanbul kartal', u'kartal']\n",
      "\n",
      "Top words for cluster 45:\n",
      "[u'wanna', u'blondeandproper', u'rt blondeandproper', u'cuddle golden', u'blondeandproper wanna', u'wanna cuddle', u'cuddle', u'rt', u'dm', u'retriever dm', u'nigelnathaneal anybody', u'details', u'https pylsulyxxw', u'anybody wanna', u'pylsulyxxw', u'wanna adopt', u'rt nigelnathaneal', u'pls rt', u'nigelnathaneal', u'details pls', u'dm details', u'adopt year', u'anybody', u'rt https', u'pls', u'adopt', u'year old', u'old golden', u'year', u'old', u'golden retriever', u'retriever', u'golden', u'https', u'wants adopt', u'basically', u'just wanna', u'basically just', u'wanna golden', u'wants', u'thatslifetrish', u'thatslifetrish freddyamazin', u'freddyamazin wanna', u'pug labrador', u'wanna buy', u'husky pug', u'does anybody', u'anybody golden', u'retriever use', u'senior picture']\n",
      "\n",
      "Top words for cluster 46:\n",
      "[u'cob funniest', u'eat corn', u'cob', u'thing https', u'funniest thing', u'corn', u'corn cob', u'retriever eat', u'watching golden', u'funniest', u'eat', u'watching', u'thing', u'https', u'golden retriever', u'retriever', u'golden', u'https hbe5b0gehy', u'hbe5b0gehy', u'https pb4jnx5t3b', u'pb4jnx5t3b', u'pb4jnx5t3b https', u'zxtszuc6rg', u'https zxtszuc6rg', u'https ooj6htzgnz', u'zxtszuc6rg https', u'ooj6htzgnz', u'https ahvapdma3q', u'thekjt8ffk https', u'thekjt8ffk', u'https thekjt8ffk', u'ahvapdma3q', u'https 6noo0jnt8m', u'6noo0jnt8m https', u'6noo0jnt8m', u'jg2dwf6gmw', u'https jg2dwf6gmw', u'bqobjuazzj https', u's2gkbpzi3s', u'bqobjuazzj', u'https bqobjuazzj', u'https s2gkbpzi3s', u'https izjyf8a2ai', u'yaqwbu0psp', u'yaqwbu0psp https', u'https yaqwbu0psp', u'izjyf8a2ai', u'spvjri8zqd', u'spvjri8zqd https', u'ifpknrjmwt']\n",
      "\n",
      "Top words for cluster 47:\n",
      "[u'sassyanimalpics husky', u'xcst0amp7j', u'http xcst0amp7j', u'rt sassyanimalpics', u'sassyanimalpics', u'want http', u'mix want', u'retriever mix', u'mix', u'want', u'http', u'husky golden', u'husky', u'rt', u'golden retriever', u'retriever', u'golden', u'lhdtm0mq1v', u'http lhdtm0mq1v', u'animailife cute', u'yrs thx', u'sassyanimalpics animailife', u'https s5eisgcrh4', u'animalplanetpic', u'yrs', u's5eisgcrh4', u'book yrs', u'animalplanetpic sassyanimalpics', u'animalplanet animalplanetpic', u'animalplanet', u'animailife', u'babyanimalpics husky', u'yhbfdvdqa4', u'ballerina http', u'ballerina', u'retriever ballerina', u'http yhbfdvdqa4', u'xsnsiaaktt', u'babyanimalgifs sleepy', u'http xsnsiaaktt', u'http qwnqipoy5c', u'imlesliechow', u'rt imlesliechow', u'qwnqipoy5c', u'imlesliechow husky', u'puppy names', u'names', u'retriever 130lbs', u'mike__ray', u'130lbs']\n",
      "\n",
      "Top words for cluster 48:\n",
      "[u'retriever guide', u'guide', u'secrets', u'discover', u'discover secrets', u'absolute golden', u'guide discover', u'2015 golden', u'2014 https', u'guide 2015', u'guide 2014', u'2014', u'absolute', u'2015', u'house', u'house home', u'https jwnhswvcax', u'sign', u'sign https', u'door sign', u'retriever door', u'jwnhswvcax goldenretriever', u'jwnhswvcax', u'home golden', u'door', u'goldenretriever', u'home', u'https', u'secrets adopting', u'adopting', u'golden retriever', u'retriever', u'golden', u'secrets https', u'teg', u'motion', u'adopting https', u'goldenretriever goldenretrievers', u'rt retrieverscare', u'retrieverscare', u'retrieverscare house', u'goldenretrievers', u'1de0kaxvkx', u'musicproducer house', u'sleep', u'house sleep', u'musicproducer', u'motherofdragons', u'motherofdragons musicproducer', u'sleep golden']\n",
      "\n",
      "Top words for cluster 49:\n",
      "[u'cream truck', u'truck', u'truck video', u'cream ice', u'retriever gets', u'gets ice', u'gets', u'ice cream', u'ice', u'cream', u'video https', u'video', u'ybg_anthony', u'ybg_anthony golden', u'https', u'guykawasaki', u'guykawasaki golden', u'golden retriever', u'retriever', u'golden', u'67k0waidiu https', u'https mexjoawbhc', u'https 67k0waidiu', u'mexjoawbhc', u'rt guykawasaki', u'67k0waidiu', u'video zack', u'lxj5nfmsnt', u'https lxj5nfmsnt', u'zack', u'hwefk096lh https', u'hllr9lb0ls', u'hwefk096lh', u'https hllr9lb0ls', u'https hwefk096lh', u'7xkpy3ntzz https', u'gbifvaewc6', u'7xkpy3ntzz', u'https gbifvaewc6', u'https 7xkpy3ntzz', u'https a5bykee191', u'dogs days', u'a5bykee191', u'days golden', u'wdfofis3f9', u'wdfofis3f9 https', u'https wdfofis3f9', u'pfmolqyi8j', u'https pfmolqyi8j', u'https 6ntefdthuf']\n",
      "\n"
     ]
    }
   ],
   "source": [
    "word_loadings = np.dot(centroids, svd.components_)\n",
    "pickle.dump(word_loadings,open('./data/word_loadings.pkl','wb'))\n",
    "vocab = vectorizer.get_feature_names()\n",
    "pickle.dump(vocab,open('./data/vocab.pkl','wb'))\n",
    "for k in range(0,my_k):\n",
    "    #word loadings = cluster_centers * eigenvectors \n",
    "    indices=[i for i in np.argsort(word_loadings[k,:])[::-1]]    \n",
    "    sorted_vocab=[vocab[i] for i in indices]\n",
    "    print(\"Top words for cluster {}:\\n{}\\n\".format(k, sorted_vocab[:50]))"
   ]
  },
  {
   "cell_type": "markdown",
   "metadata": {},
   "source": [
    "### Label Tweets\n",
    "Apply the model to the test set."
   ]
  },
  {
   "cell_type": "code",
   "execution_count": 19,
   "metadata": {
    "collapsed": false
   },
   "outputs": [
    {
     "data": {
      "text/plain": [
       "[u'00l2utnmod',\n",
       " u'01312',\n",
       " u'01312 golden',\n",
       " u'02327662792',\n",
       " u'02327662792 kayipkopek',\n",
       " u'0430551250',\n",
       " u'0430551250 original',\n",
       " u'05051300249',\n",
       " u'05051300249 https',\n",
       " u'05063087884']"
      ]
     },
     "execution_count": 19,
     "metadata": {},
     "output_type": "execute_result"
    }
   ],
   "source": [
    "check = pickle.load(open('./data/vocab.pkl','rb'))\n",
    "check[:10]"
   ]
  },
  {
   "cell_type": "code",
   "execution_count": 16,
   "metadata": {
    "collapsed": true
   },
   "outputs": [],
   "source": [
    "def label_tweets(vectorizer, word_loadings, testing_data, sample_percentage=0.20):\n",
    "    \"\"\"\n",
    "    Label tweets.\n",
    "    \"\"\"\n",
    "    result = []\n",
    "    sample_size = int(len(testing_data)*sample_percentage)\n",
    "    sample_tweets = testing_data[:sample_size]\n",
    "    for tweet in sample_tweets:\n",
    "        # vectorize the tweet\n",
    "        sparse_array = vectorizer.fit_transform([tweet])\n",
    "        # subtract all values between the tweet vectorization and centroids\n",
    "        sparse_array_subtraction_abs = np.absolute(sparse_array - word_loadings)\n",
    "        # sum to get the total distances \n",
    "        sparse_array_subtraction_abs_sum = sparse_array_subtraction_abs.sum(axis=1)\n",
    "        # append the index of the minimum distance\n",
    "        result.append(np.argmin(sparse_array_subtraction_abs_sum))\n",
    "    return result"
   ]
  },
  {
   "cell_type": "code",
   "execution_count": null,
   "metadata": {
    "collapsed": true
   },
   "outputs": [],
   "source": [
    "#test_vectorizer = vectorize_2(vocab)"
   ]
  },
  {
   "cell_type": "code",
   "execution_count": 44,
   "metadata": {
    "collapsed": true
   },
   "outputs": [],
   "source": [
    "class TopicModel():\n",
    "    \"\"\"\n",
    "    Topic clusters built from 2012 soda rules, SVD applied, kmeans for centroids. New tweets\n",
    "    are labled by their nearness to centroids.\n",
    "    \"\"\"\n",
    "    def __init__(self):\n",
    "        \"\"\"\n",
    "        Load and initialize any external models or data here.\n",
    "        \"\"\"\n",
    "        self.word_loadings = pickle.load(open('./data/word_loadings.pkl'))\n",
    "        self.vocab = pickle.load(open('./data/vocab.pkl'))\n",
    "        self.vectorizer = CountVectorizer(stop_words='english'\n",
    "                                          , ngram_range = (1,2)\n",
    "                                          , binary = True # presence of word instead of frequency\n",
    "                                          , vocabulary = self.vocab\n",
    "                                         )\n",
    "        self.tweets = pickle.load(open('./data/test_tweets.pkl')) \n",
    "    def enrichment_value(self):\n",
    "        \"\"\"\n",
    "        Calculates the nearest cluster for an unlabeled tweet using the vocab and cluster centers from the training set.\n",
    "        \"\"\"\n",
    "        tweetTxt = self.tweets\n",
    "        # vectorize the tweet\n",
    "        sparse_array = self.vectorizer.fit_transform(tweetTxt).toarray()\n",
    "        for item in sparse_array:\n",
    "            # multiply the weights by the vector\n",
    "            weighted_sparse_array = item * self.word_loadings\n",
    "            # dot product to find the sum of the token weights for this specific tweet\n",
    "            sums = [np.dot(item,row) for row in self.word_loadings]\n",
    "            # return the following\n",
    "            result = {\n",
    "                    \"clusterID\": np.argmax(sums)\n",
    "                    , \"min_score\": np.min(sums)\n",
    "                    , \"max_score\": np.max(sums)\n",
    "                    , \"mean_score\": np.mean(sums)\n",
    "                    , \"stdev_score\": np.std(sums)\n",
    "                    }\n",
    "            yield result\n",
    "    def __repr__(self):\n",
    "        \"\"\" Add a description of the class's function here \"\"\"\n",
    "        return(\"Topic clusters built from 2012 soda rules Tweets are vectorized using CountVectorizer to icludes 2grams in the vocab. \\\n",
    "                The 50 topic clusters are built from 2012 data soda rules, SVD applied, \\\n",
    "                kmeans for centroids. New tweets are labled by their nearness to centroids.Result returned provides score information.\")\n"
   ]
  },
  {
   "cell_type": "code",
   "execution_count": 45,
   "metadata": {
    "collapsed": false
   },
   "outputs": [],
   "source": [
    "x = TopicModel()\n",
    "for thing in x.enrichment_value():\n",
    "    print thing"
   ]
  },
  {
   "cell_type": "code",
   "execution_count": null,
   "metadata": {
    "collapsed": true
   },
   "outputs": [],
   "source": []
  }
 ],
 "metadata": {
  "kernelspec": {
   "display_name": "Python 2",
   "language": "python",
   "name": "python2"
  },
  "language_info": {
   "codemirror_mode": {
    "name": "ipython",
    "version": 2
   },
   "file_extension": ".py",
   "mimetype": "text/x-python",
   "name": "python",
   "nbconvert_exporter": "python",
   "pygments_lexer": "ipython2",
   "version": "2.7.10"
  }
 },
 "nbformat": 4,
 "nbformat_minor": 0
}
